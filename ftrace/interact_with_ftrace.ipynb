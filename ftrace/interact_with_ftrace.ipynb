{
 "cells": [
  {
   "cell_type": "markdown",
   "id": "6034a195-93f4-4200-951b-3434de8856d6",
   "metadata": {},
   "source": [
    "# Interact with the Ftrace\n",
    "\n",
    "There are multiple of interfaces that ftrace open to the user space and kernel space. For Ubuntu 22.04 distro, they reside in `/sys/kernel/debug/tracing/` or one of its subdirectory.\n",
    "\n",
    "| Interface(File) | Description | User Space | Kernel Space |\n",
    "|-----------------|-------------|------------|--------------|\n",
    "| *trace* | show tracing information(Ftrace ring buffer). | `cat trace` | - |\n",
    "| *current_tracer* | set/show current tracer being used. | `echo [tracer] > current_tracer`<br/>`cat current_tracer` |- |\n",
    "| *tracing_on* | enable/disable trace recording. | `echo \"0\" > tracing_on`<br/>`echo \"1\" > tracing_on` | `void tracing_on(void);`<br/>`void tracing_off(void);` |\n",
    "| *trace_marker* | write message into the Ftrace ring buffer. | `echo ... > trace_marker` | - |"
   ]
  },
  {
   "cell_type": "markdown",
   "id": "35c94775-a670-4cb0-9ee7-c1c4c208bfed",
   "metadata": {},
   "source": [
    "There are utilities in [ftrace_utilites.sh](./ftrace_utilities.sh). The`find_debugfs` is used to find where the *debugfs* mounted. The `filter_trace` is used to filter specific message in *trace* file, because the output can be overwhelming on a busy system. Now, we source the utilities first:"
   ]
  },
  {
   "cell_type": "code",
   "execution_count": 1,
   "id": "6b8d56b3-8f24-4b42-9d7b-b363da3acf34",
   "metadata": {
    "tags": []
   },
   "outputs": [],
   "source": [
    "source ./ftrace_utilities.sh\n",
    "DEBUGFS=\"$(find_debugfs)\"\n",
    "TRACING=\"$DEBUGFS/tracing\""
   ]
  },
  {
   "cell_type": "markdown",
   "id": "2c52885d-7452-4940-9568-5893e3dc64fa",
   "metadata": {},
   "source": [
    "## 1. Write Debug Info from User Space to Ftrace Ring Buffer\n",
    "\n",
    "The file *trace_marker* provides a way to write into the Ftrace ring buffer from user space. This marker will then appear in the *trace* file to give a location in the trace of where a specific event occurred."
   ]
  },
  {
   "cell_type": "code",
   "execution_count": 2,
   "id": "2c7aaf68-08ca-4055-9abf-567254d90cb3",
   "metadata": {
    "tags": []
   },
   "outputs": [
    {
     "name": "stdout",
     "output_type": "stream",
     "text": [
      "# tracer: nop\n",
      "#\n",
      "# entries-in-buffer/entries-written: 1/1   #P:8\n",
      "#\n",
      "#                                _-----=> irqs-off/BH-disabled\n",
      "#                               / _----=> need-resched\n",
      "#                              | / _---=> hardirq/softirq\n",
      "#                              || / _--=> preempt-depth\n",
      "#                              ||| / _-=> migrate-disable\n",
      "#                              |||| /     delay\n",
      "#           TASK-PID     CPU#  |||||  TIMESTAMP  FUNCTION\n",
      "#              | |         |   |||||     |         |\n",
      "           <...>-10078   [005] .....  5584.298864: tracing_mark_write: Hello, World!\n"
     ]
    }
   ],
   "source": [
    "echo 1 > $TRACING/tracing_on\n",
    "echo \"Hello, World!\" > $TRACING/trace_marker\n",
    "filter_trace 'Hello, World'"
   ]
  },
  {
   "cell_type": "markdown",
   "id": "7333cd5a-04a5-4b42-9786-0151734538f4",
   "metadata": {},
   "source": [
    "And there is another example writen in C language, and the idea is the same: [Hello World in C](interact_with_ftrace/interact_with_ftrace.c)."
   ]
  },
  {
   "cell_type": "code",
   "execution_count": 6,
   "id": "351c75c9-b6e5-44f9-b062-93513633adf1",
   "metadata": {
    "tags": []
   },
   "outputs": [
    {
     "name": "stdout",
     "output_type": "stream",
     "text": [
      "# tracer: nop\n",
      "#\n",
      "# entries-in-buffer/entries-written: 1/1   #P:8\n",
      "#\n",
      "#                                _-----=> irqs-off/BH-disabled\n",
      "#                               / _----=> need-resched\n",
      "#                              | / _---=> hardirq/softirq\n",
      "#                              || / _--=> preempt-depth\n",
      "#                              ||| / _-=> migrate-disable\n",
      "#                              |||| /     delay\n",
      "#           TASK-PID     CPU#  |||||  TIMESTAMP  FUNCTION\n",
      "#              | |         |   |||||     |         |\n",
      "           <...>-10532   [007] .....  6528.161335: tracing_mark_write: Hello, Ftrace!\n"
     ]
    }
   ],
   "source": [
    "make -C interact_with_ftrace > /dev/null\n",
    "echo > $TRACING/trace # clear ring buffer\n",
    "interact_with_ftrace/interact_with_ftrace.exe && \\\n",
    "filter_trace \"Hello\"\n",
    "make clean -C interact_with_ftrace > /dev/null"
   ]
  }
 ],
 "metadata": {
  "kernelspec": {
   "display_name": "Bash",
   "language": "bash",
   "name": "bash"
  },
  "language_info": {
   "codemirror_mode": "shell",
   "file_extension": ".sh",
   "mimetype": "text/x-sh",
   "name": "bash"
  }
 },
 "nbformat": 4,
 "nbformat_minor": 5
}
