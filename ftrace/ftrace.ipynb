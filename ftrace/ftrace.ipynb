{
 "cells": [
  {
   "cell_type": "markdown",
   "id": "72fa8125-9e95-4b59-af80-24f56ff784ed",
   "metadata": {},
   "source": [
    "# Debug the Linux Kernel Using Ftrace\n",
    "\n",
    "- [Setting up Ftrace](#setup_ftrace)  \n",
    "- [Basic Operatoins](#basic_operation)  \n",
    "-- [Tracers available](#available_tracers)  \n",
    "-- [Enable/Disable Ftrace](#enable_disable)  \n",
    "-- [Show/Clear Trace Messages](#show_clear_msg)  \n",
    "-- [Using `trace_printk()`](#using_trace_printk)  \n",
    "-- [Ring Buffer Overflow Problem](#ring_buff_overflow)  \n",
    "-- [Starting and Stopping the Trace Recording](#start_stop_recording)\n",
    "\n",
    "Note: The commands within this article must be run as the root user (`sudo` is insufficient). So, if we need to re-execute this `.ipynb`, we can used this command to start up the jupyter lab:\n",
    "```sh\n",
    "sudo -E env \"PATH=$PATH\" jupyter lab --allow-root\n",
    "```"
   ]
  },
  {
   "cell_type": "markdown",
   "id": "6ff91e29-0ed3-4ebc-8432-dde261b80c9e",
   "metadata": {},
   "source": [
    "## <a id='setup_ftrace'>1. Setting up Ftrace</a>"
   ]
  },
  {
   "cell_type": "markdown",
   "id": "f9c6ff77-72fa-44a3-9035-07070fa96953",
   "metadata": {},
   "source": [
    "- 1.1 For the purpose of debugging, the kernel configuration parameters that should be enabled are:"
   ]
  },
  {
   "cell_type": "code",
   "execution_count": 1,
   "id": "0cfea8df-2a2b-45b7-9d4d-b217bafdc5e8",
   "metadata": {
    "tags": []
   },
   "outputs": [
    {
     "name": "stdout",
     "output_type": "stream",
     "text": [
      "\u001b[01;31m\u001b[KCONFIG_FUNCTION_TRACER\u001b[m\u001b[K=y\n",
      "\u001b[01;31m\u001b[KCONFIG_FUNCTION_GRAPH_TRACER\u001b[m\u001b[K=y\n",
      "\u001b[01;31m\u001b[KCONFIG_STACK_TRACER\u001b[m\u001b[K=y\n",
      "C\u001b[01;31m\u001b[KONFIG_DYNAMIC_FTRACE\u001b[m\u001b[K=y\n"
     ]
    }
   ],
   "source": [
    "for config in \"CONFIG_FUNCTION_TRACER\" \"CONFIG_FUNCTION_GRAPH_TRACER\" \\\n",
    "              \"CONFIG_STACK_TRACER\" \"ONFIG_DYNAMIC_FTRACE\"\n",
    "do\n",
    "    grep \"${config}\\b\" /boot/config-$(uname -r)\n",
    "done"
   ]
  },
  {
   "cell_type": "markdown",
   "id": "7aba48dc-469e-42e8-a9df-84236b79a8db",
   "metadata": {},
   "source": [
    "- 1.2 Currently the API to interface with Ftrace is located in the Debugfs file system. Typically, that is mounted at `/sys/kernel/debug`. So, the first step to check the ftrace setting is to verify the existence of the filesystem."
   ]
  },
  {
   "cell_type": "code",
   "execution_count": 2,
   "id": "ccf2b99d-b96f-4ed4-9e3b-cdb327f68e74",
   "metadata": {
    "tags": []
   },
   "outputs": [
    {
     "name": "stdout",
     "output_type": "stream",
     "text": [
      "\u001b[01;31m\u001b[Kdebugfs\u001b[m\u001b[K on /sys/kernel/debug type \u001b[01;31m\u001b[Kdebugfs\u001b[m\u001b[K (rw,nosuid,nodev,noexec,relatime)\n"
     ]
    }
   ],
   "source": [
    "mount | grep -i debugfs"
   ]
  },
  {
   "cell_type": "markdown",
   "id": "a617a2d2-13ac-49c4-8496-a5d93ac0a7dd",
   "metadata": {},
   "source": [
    "Let's define a function to find the debugfs:"
   ]
  },
  {
   "cell_type": "code",
   "execution_count": 6,
   "id": "f41ae441-8418-4d77-8d31-12b46eb0b889",
   "metadata": {
    "tags": []
   },
   "outputs": [
    {
     "name": "stdout",
     "output_type": "stream",
     "text": [
      "debugfs is at: /sys/kernel/debug\n"
     ]
    }
   ],
   "source": [
    "function find_debugfs()\n",
    "{\n",
    "    mount | awk '/^debugfs on .* type debugfs/{print $3}'\n",
    "}\n",
    "\n",
    "DEBUGFS=$(find_debugfs); echo \"debugfs is at: $DEBUGFS\""
   ]
  },
  {
   "cell_type": "markdown",
   "id": "6f02d315-e393-4eb8-841d-2d80bfe65068",
   "metadata": {},
   "source": [
    "- 1.3 When Ftrace is configured, it will create its own directory called *tracing* within the Debugfs file system."
   ]
  },
  {
   "cell_type": "code",
   "execution_count": 4,
   "id": "2b08a567-bb1d-468c-a7a7-4dc8e09c8e2d",
   "metadata": {
    "tags": []
   },
   "outputs": [
    {
     "name": "stdout",
     "output_type": "stream",
     "text": [
      "available_events            max_graph_depth         stack_max_size\n",
      "available_filter_functions  \u001b[0m\u001b[01;34moptions\u001b[0m                 stack_trace\n",
      "available_tracers           \u001b[01;34mper_cpu\u001b[0m                 stack_trace_filter\n",
      "buffer_percent              printk_formats          synthetic_events\n",
      "buffer_size_kb              README                  timestamp_mode\n",
      "buffer_total_size_kb        saved_cmdlines          trace\n",
      "current_tracer              saved_cmdlines_size     trace_clock\n",
      "dynamic_events              saved_tgids             trace_marker\n",
      "dyn_ftrace_total_info       set_event               trace_marker_raw\n",
      "enabled_functions           set_event_notrace_pid   trace_options\n",
      "error_log                   set_event_pid           trace_pipe\n",
      "\u001b[01;34mevents\u001b[0m                      set_ftrace_filter       \u001b[01;34mtrace_stat\u001b[0m\n",
      "free_buffer                 set_ftrace_notrace      tracing_cpumask\n",
      "function_profile_enabled    set_ftrace_notrace_pid  tracing_max_latency\n",
      "\u001b[01;34mhwlat_detector\u001b[0m              set_ftrace_pid          tracing_on\n",
      "\u001b[01;34minstances\u001b[0m                   set_graph_function      tracing_thresh\n",
      "kprobe_events               set_graph_notrace       uprobe_events\n",
      "kprobe_profile              snapshot                uprobe_profile\n"
     ]
    }
   ],
   "source": [
    "ls $DEBUGFS/tracing"
   ]
  },
  {
   "cell_type": "markdown",
   "id": "20df162f-625f-4e63-b210-c8930ccc41e6",
   "metadata": {},
   "source": [
    "## <a id='basic_operation'> 2. Basic Operatoins</a>\n",
    "\n",
    "### <a id='available_tracers'>2.1 Tracers available</a>\n",
    "To find out which tracers are available, simply cat the *available_tracers* file in the tracing directory:"
   ]
  },
  {
   "cell_type": "code",
   "execution_count": 5,
   "id": "c72216d1-3d8b-4b8d-b7e9-c8eda8f263ca",
   "metadata": {
    "tags": []
   },
   "outputs": [
    {
     "name": "stdout",
     "output_type": "stream",
     "text": [
      "hwlat blk mmiotrace function_graph wakeup_dl wakeup_rt wakeup function nop\n"
     ]
    }
   ],
   "source": [
    "cat $DEBUGFS/tracing/available_tracers"
   ]
  },
  {
   "cell_type": "markdown",
   "id": "f94dc531-306e-4796-b8df-2731c05d4400",
   "metadata": {},
   "source": [
    "The tracer `nop` is short for `no operation`, is used to disable the trace."
   ]
  },
  {
   "cell_type": "markdown",
   "id": "a5801194-ebc6-498e-8579-dcfae9e76a37",
   "metadata": {},
   "source": [
    "We can check the current tracer in the file *current_tracer*:"
   ]
  },
  {
   "cell_type": "code",
   "execution_count": 6,
   "id": "16bdbc97-d921-442e-82ce-3e333e65918e",
   "metadata": {
    "tags": []
   },
   "outputs": [
    {
     "name": "stdout",
     "output_type": "stream",
     "text": [
      "nop\n"
     ]
    }
   ],
   "source": [
    "cat $DEBUGFS/tracing/current_tracer"
   ]
  },
  {
   "cell_type": "markdown",
   "id": "c05600c8-ee87-4302-8759-4102c29573b5",
   "metadata": {},
   "source": [
    "### <a id='enable_disable'>2.2 Enable/Disable a Tracer</a>\n",
    "To enable the `function` tracer, just echo \"function\" into the current_tracer file."
   ]
  },
  {
   "cell_type": "code",
   "execution_count": 7,
   "id": "6c8a5488-97ab-4da8-8d6a-1480046c9e72",
   "metadata": {
    "tags": []
   },
   "outputs": [],
   "source": [
    "# set current tracer to \"function\"\n",
    "echo \"function\" > $DEBUGFS/tracing/current_tracer"
   ]
  },
  {
   "cell_type": "code",
   "execution_count": 8,
   "id": "828e1866-161d-469a-8d80-98e8e99c8f83",
   "metadata": {
    "tags": []
   },
   "outputs": [
    {
     "name": "stdout",
     "output_type": "stream",
     "text": [
      "function\n"
     ]
    }
   ],
   "source": [
    "# show current tracer\n",
    "cat $DEBUGFS/tracing/current_tracer"
   ]
  },
  {
   "cell_type": "code",
   "execution_count": 9,
   "id": "03387ad8-96b2-4934-aacc-91f2a1fc871b",
   "metadata": {
    "tags": []
   },
   "outputs": [],
   "source": [
    "# disable tracer\n",
    "echo \"nop\" > $DEBUGFS/tracing/current_tracer"
   ]
  },
  {
   "cell_type": "markdown",
   "id": "5efaf0e5-aef8-4499-933b-7e0c0ed5992e",
   "metadata": {},
   "source": [
    "### <a id='show_clear_msg'> 2.3 Show/Clear Trace Messages</a>\n",
    "\n",
    "We can get trace information through this file: *trace*. We can read the message with any tools. To clear the message, just write an empty string into the file:"
   ]
  },
  {
   "cell_type": "code",
   "execution_count": 18,
   "id": "3a403177-3486-43c8-b4cf-368877f07bea",
   "metadata": {
    "tags": []
   },
   "outputs": [
    {
     "name": "stdout",
     "output_type": "stream",
     "text": [
      "# tracer: function\n",
      "#\n",
      "# entries-in-buffer/entries-written: 409969/1780364   #P:8\n",
      "#\n",
      "#                                _-----=> irqs-off/BH-disabled\n",
      "#                               / _----=> need-resched\n",
      "#                              | / _---=> hardirq/softirq\n",
      "#                              || / _--=> preempt-depth\n",
      "#                              ||| / _-=> migrate-disable\n",
      "#                              |||| /     delay\n",
      "#           TASK-PID     CPU#  |||||  TIMESTAMP  FUNCTION\n",
      "#              | |         |   |||||     |         |\n",
      "          <idle>-0       [002] d..2.  6530.912059: ktime_get <-tick_nohz_irq_exit\n",
      "          <idle>-0       [002] ...2.  6530.912061: cpuidle_reflect <-do_idle\n",
      "          <idle>-0       [002] ...2.  6530.912061: menu_reflect <-cpuidle_reflect\n",
      "          <idle>-0       [002] ...2.  6530.912061: tick_nohz_idle_got_tick <-menu_reflect\n",
      "          <idle>-0       [002] ...2.  6530.912062: arch_cpu_idle_exit <-do_idle\n",
      "          <idle>-0       [002] d..2.  6530.912062: arch_cpu_idle_enter <-do_idle\n",
      "          <idle>-0       [002] d..2.  6530.912062: tsc_verify_tsc_adjust <-arch_cpu_idle_enter\n",
      "          <idle>-0       [002] d..2.  6530.912063: local_touch_nmi <-arch_cpu_idle_enter\n"
     ]
    }
   ],
   "source": [
    "echo \"function\" > $DEBUGFS/tracing/current_tracer # enable `function` tracer\n",
    "sleep 1; # let the bullet fly...\n",
    "head -n 20 $DEBUGFS/tracing/trace # read messages\n",
    "echo \"nop\" > $DEBUGFS/tracing/current_tracer # disable"
   ]
  },
  {
   "cell_type": "code",
   "execution_count": 11,
   "id": "492651e9-0008-4684-8c17-f1525b45d31c",
   "metadata": {
    "tags": []
   },
   "outputs": [
    {
     "name": "stdout",
     "output_type": "stream",
     "text": [
      "# tracer: nop\n",
      "#\n",
      "# entries-in-buffer/entries-written: 0/0   #P:8\n",
      "#\n",
      "#                                _-----=> irqs-off/BH-disabled\n",
      "#                               / _----=> need-resched\n",
      "#                              | / _---=> hardirq/softirq\n",
      "#                              || / _--=> preempt-depth\n",
      "#                              ||| / _-=> migrate-disable\n",
      "#                              |||| /     delay\n",
      "#           TASK-PID     CPU#  |||||  TIMESTAMP  FUNCTION\n",
      "#              | |         |   |||||     |         |\n"
     ]
    }
   ],
   "source": [
    "echo > $DEBUGFS/tracing/trace # clear messages\n",
    "cat $DEBUGFS/tracing/trace"
   ]
  },
  {
   "cell_type": "markdown",
   "id": "289cb480-5395-4179-8427-cff7a31af14a",
   "metadata": {},
   "source": [
    "The meaning of the headers within `trace` file is quite straightforeward:\n",
    "- TASK: the name of process.\n",
    "- PID: process id.\n",
    "- CPU: CPU number.\n",
    "- TIMESTAMP: the time since boot, in second.\n",
    "- FUNCTION: the function captured, followed by its parent."
   ]
  },
  {
   "cell_type": "markdown",
   "id": "4a7fbbc9-272b-406e-970d-443131cfb852",
   "metadata": {},
   "source": [
    "The `function_graph` serves the same purpose but it shows information in a friendly way for humans:"
   ]
  },
  {
   "cell_type": "code",
   "execution_count": 12,
   "id": "db7c1f4f-3ccb-4854-8bee-dadfc95be00f",
   "metadata": {
    "tags": []
   },
   "outputs": [
    {
     "name": "stdout",
     "output_type": "stream",
     "text": [
      "# tracer: function_graph\n",
      "#\n",
      "# CPU  DURATION                  FUNCTION CALLS\n",
      "# |     |   |                     |   |   |   |\n",
      " 7)   0.180 us    |        } /* tick_nohz_tick_stopped */\n",
      " 7)   9.154 us    |      } /* menu_select */\n",
      " 7)   9.527 us    |    } /* cpuidle_select */\n",
      " 7)   0.186 us    |    tick_nohz_tick_stopped();\n",
      " 7)               |    tick_nohz_idle_retain_tick() {\n",
      " 7)   0.187 us    |      timer_clear_idle();\n",
      " 7)   0.565 us    |    }\n",
      " 7)               |    cpuidle_enter() {\n",
      " 7)   0.193 us    |      tick_nohz_get_next_hrtimer();\n",
      " 7)               |      cpuidle_enter_state() {\n",
      " 7)   0.134 us    |        sched_idle_set_state();\n",
      " 7)   0.916 us    |        intel_idle();\n",
      " 7)   0.197 us    |        sched_idle_set_state();\n",
      " 7)               |        irq_enter_rcu() {\n",
      " 7)               |          tick_irq_enter() {\n",
      " 7)   0.192 us    |            tick_check_oneshot_broadcast_this_cpu();\n",
      " 7)   0.220 us    |            ktime_get();\n",
      " 7)   0.189 us    |            nr_iowait_cpu();\n",
      " 7)   1.343 us    |          }\n",
      " 7)   1.713 us    |        }\n",
      " 7)               |        __sysvec_apic_timer_interrupt() {\n",
      " 7)               |          hrtimer_interrupt() {\n",
      " 7)   0.194 us    |            _raw_spin_lock_irqsave();\n",
      " 7)   0.226 us    |            ktime_get_update_offsets_now();\n",
      " 7)               |            __hrtimer_run_queues() {\n",
      " 7)   0.261 us    |              __remove_hrtimer();\n"
     ]
    }
   ],
   "source": [
    "echo 'function_graph' > $DEBUGFS/tracing/current_tracer # enable tracer\n",
    "head -n 30 $DEBUGFS/tracing/trace # read\n",
    "\n",
    "echo > $DEBUGFS/tracing/trace # clear\n",
    "echo \"nop\" > $DEBUGFS/tracing/current_tracer # disable"
   ]
  },
  {
   "cell_type": "markdown",
   "id": "96d7d748-1145-45f1-aef4-34dc7d621a80",
   "metadata": {},
   "source": [
    "The header **DURATION** is in microseconds(10e-6 second).  \n",
    "The *\"!\"* sign in *\"7) ! 825.996 us  |        intel_idle();\"* is a marker annotating *\"greater than 100 micorseconds\"*. Similarly, a *\"+\"* annotates *\"greater than 10 microseconds\"*."
   ]
  },
  {
   "cell_type": "markdown",
   "id": "574501a2-1b60-4d44-9639-c9dd7bfd0cf3",
   "metadata": {},
   "source": [
    "Before we continue, let's solve a problem I encountered: when the current tracer is `function` or `function_grapth`, command `cat trace` will never stop on my laptop! Let's impletement a tool to solve this problem: "
   ]
  },
  {
   "cell_type": "code",
   "execution_count": 4,
   "id": "e3cce361-28f5-40c8-9925-121b4ef37657",
   "metadata": {
    "tags": []
   },
   "outputs": [],
   "source": [
    "# @desc - grep function name from /sys/kernel/debug/tracing/trace\n",
    "# @usage - filter_trace <pattern> [max match count] [max lines to filter]\n",
    "function filter_trace() (\n",
    "    REGX=${1:?\"no regx\"}  # regular expression\n",
    "    MAXMATCH=${2:-3}      # max match count\n",
    "    MAXLINES=${3:-1000}   # max number record\n",
    "\n",
    "    awk -v pattern=\"$REGX\" -v max_match=\"$MAXMATCH\" -v max_lines=\"$MAXLINES\" '\n",
    "        function enque_ring_buff(ring_buff) {\n",
    "            ring_buff[FNR] = $0\n",
    "            if (FNR-5 in ring_buff) {\n",
    "                delete ring_buff[FNR-5]; n_ignore += 1\n",
    "            }\n",
    "        }\n",
    "        function print_clear_ring_buff(ring_buff) {\n",
    "            if (n_ignore > 0) {\n",
    "                print \" >>>>>>>>>>>>>>>>> \"n_ignore\" lines ignored <<<<<<<<<<<\"\n",
    "                n_ignore = 0\n",
    "            }\n",
    "            for (nr in ring_buff) {\n",
    "                print ring_buff[nr]\n",
    "            }\n",
    "            delete ring_buff\n",
    "        }\n",
    "\n",
    "        BEGIN {\n",
    "            n_match   = 0                     # number of matched\n",
    "            n_headers = 12                    # 12 lines of headers\n",
    "            max_match = 0 + max_match         # convert from string to integer\n",
    "            max_lines = max_lines + n_headers # max output lines\n",
    "            n_ignore = 0\n",
    "        }\n",
    "        \n",
    "        $0 ~ pattern {\n",
    "            print_clear_ring_buff(ring_buff)\n",
    "            print; ++n_match; tailing = 5; next;\n",
    "        }\n",
    "\n",
    "        FNR < n_headers { print; next; }\n",
    "        FNR > max_lines { print \"[WORNING] message overflow, FNR=\" FNR; exit; }\n",
    "        tailing > 0 { tailing -= 1; print; next; }\n",
    "        n_match >= max_match { exit }\n",
    "        \n",
    "        { enque_ring_buff(ring_buff) }\n",
    "        ' $DEBUGFS/tracing/trace\n",
    ")"
   ]
  },
  {
   "cell_type": "markdown",
   "id": "c9a72468-36e8-4a07-a8bd-d50708dbe9cd",
   "metadata": {},
   "source": [
    "### <a id='using_trace_printk'>2.4 Using `trace_printk()`</a>\n",
    "\n",
    "C function `trace_printk()` has much better performance than `printk()`, and it writes to the ring buffer of `trace` file. It can be used just like `printk()`, and can also be used in any context (interrupt code, NMI code, and scheduler code).\n",
    "\n",
    "I wrote a _Hello World_ of ftrace, the main part is showed below:"
   ]
  },
  {
   "cell_type": "markdown",
   "id": "42d3dfd6-23fe-4cc0-8e38-c22a85a4cd18",
   "metadata": {
    "tags": []
   },
   "source": [
    "```c\n",
    "// file: hello_ftrace/hello_ftrace.c\n",
    "static int hello_init(void)\n",
    "{\n",
    "    trace_printk(\"Hello, Ftrace!\\n\");\n",
    "    return 0;\n",
    "}\n",
    "static void hello_exit(void)\n",
    "{\n",
    "    trace_printk(\"Good bye, Ftrace!\\n\");\n",
    "}\n",
    "```"
   ]
  },
  {
   "cell_type": "code",
   "execution_count": 15,
   "id": "17eb96d4-0966-4461-9bf2-0de94dab8451",
   "metadata": {
    "tags": []
   },
   "outputs": [
    {
     "name": "stdout",
     "output_type": "stream",
     "text": [
      "make: Entering directory '/home/clymber/Studio/kerdevel/ftrace/hello_ftrace'\n",
      "make -C /lib/modules/6.1.30/build M=/home/clymber/Studio/kerdevel/ftrace/hello_ftrace modules\n",
      "make[1]: Entering directory '/home/clymber/@linux'\n",
      "make[1]: Leaving directory '/home/clymber/@linux'\n",
      "make: Leaving directory '/home/clymber/Studio/kerdevel/ftrace/hello_ftrace'\n"
     ]
    }
   ],
   "source": [
    "make -C hello_ftrace"
   ]
  },
  {
   "cell_type": "code",
   "execution_count": 16,
   "id": "12e65a3d-374f-4c34-928d-34e222ea6304",
   "metadata": {
    "tags": []
   },
   "outputs": [
    {
     "name": "stdout",
     "output_type": "stream",
     "text": [
      "# tracer: nop\n",
      "#\n",
      "# entries-in-buffer/entries-written: 2/2   #P:8\n",
      "#\n",
      "#                                _-----=> irqs-off/BH-disabled\n",
      "#                               / _----=> need-resched\n",
      "#                              | / _---=> hardirq/softirq\n",
      "#                              || / _--=> preempt-depth\n",
      "#                              ||| / _-=> migrate-disable\n",
      "#                              |||| /     delay\n",
      "#           TASK-PID     CPU#  |||||  TIMESTAMP  FUNCTION\n",
      "#              | |         |   |||||     |         |\n",
      "          insmod-7869    [007] .....  6431.189376: 0xffffffffc2071005: Hello, Ftrace!\n",
      "           rmmod-7871    [000] .....  6431.243673: 0xffffffffc2071035: Good bye, Ftrace!\n"
     ]
    }
   ],
   "source": [
    "echo > $DEBUGFS/tracing/trace # clear ring buffer first\n",
    "insmod hello_ftrace/hello_ftrace.ko    # install module\n",
    "rmmod hello_ftrace                     # remove module\n",
    "filter_trace 'Ftrace'"
   ]
  },
  {
   "cell_type": "markdown",
   "id": "c7100957-c079-4c01-b6d9-6a1c926d90dc",
   "metadata": {},
   "source": [
    "In the output above, we can see that the current tracer is `nop`, which usually means the tracing is currently off.  \n",
    "According to [Debugging the kernel using Ftrace - part 1](https://lwn.net/Articles/365835/),`trace_printk()` output will appear in any tracer, even the function and function graph tracers."
   ]
  },
  {
   "cell_type": "code",
   "execution_count": 17,
   "id": "4f2c7eb4-f3c9-4b18-951f-cdc9839d63d9",
   "metadata": {},
   "outputs": [
    {
     "name": "stdout",
     "output_type": "stream",
     "text": [
      "# tracer: function_graph\n",
      "#\n",
      "# CPU  DURATION                  FUNCTION CALLS\n",
      "# |     |   |                     |   |   |   |\n",
      " 4)               |                  reweight_entity() {\n",
      " 1)   0.093 us    |            } /* __rcu_read_unlock */\n",
      " 1)   4.834 us    |          } /* kmem_cache_alloc */\n",
      " 1)               |          mm_init() {\n",
      " 1)   0.090 us    |            __init_rwsem();\n",
      " 1)               |            pgd_alloc() {\n",
      " 1)               |              __get_free_pages() {\n",
      "[WORNING] message overflow, FNR=1013\n"
     ]
    }
   ],
   "source": [
    "echo 'function_graph' > $DEBUGFS/tracing/current_tracer\n",
    "\n",
    "modprobe hello_ftrace    # install module\n",
    "rmmod hello_ftrace       # remove module\n",
    "filter_trace 'Ftrace'\n",
    "echo 'nop' > $DEBUGFS/tracing/current_tracer"
   ]
  },
  {
   "cell_type": "markdown",
   "id": "40378d81-c674-4249-b72a-aa2158cfe461",
   "metadata": {},
   "source": [
    "Oops, There is no 'Hello, Ftrace!' nor 'Good bye, Ftrace' found in the output above! Why was it? Maybe it's because the kernel is too busy that the ring buffer was overflow over and over again."
   ]
  },
  {
   "cell_type": "markdown",
   "id": "4005629a-8512-4186-a557-270cfc7e4c89",
   "metadata": {},
   "source": [
    "### <a id='ring_buff_overflow'>2.5 Ring Buffer Overflow Problem</a>\n",
    "\n",
    "For the problem I found at the last section, I found the answer in [Debugging the kernel using Ftrace - part 2](https://lwn.net/Articles/366796/). The solution is: within the kernel, turn on/off the tracing feature only when it's necessary.\n",
    "\n",
    "Alright, let's try it by modifying the _Hello World_ a little bit:"
   ]
  },
  {
   "cell_type": "markdown",
   "id": "676a9e34-2bd3-4af4-ba87-94039e3af0b1",
   "metadata": {
    "tags": []
   },
   "source": [
    "```sh\n",
    "awk '/^static/,/^}$/' hello_ftrace/hello_ftrace.c\n",
    "```\n",
    "```c\n",
    "// file: hello_ftrace/hello_ftrace.c\n",
    "static int hello_init(void)\n",
    "{\n",
    "    tracing_on(); // <---- new\n",
    "    trace_printk(\"Hello, Ftrace!\\n\");\n",
    "    tracing_off(); // <---- new\n",
    "    return 0;\n",
    "}\n",
    "static void hello_exit(void)\n",
    "{\n",
    "    tracing_on(); // <---- new\n",
    "    trace_printk(\"Good bye, Ftrace!\\n\");\n",
    "    tracing_off(); // <---- new\n",
    "}\n",
    "```"
   ]
  },
  {
   "cell_type": "code",
   "execution_count": 11,
   "id": "65b6c8c0-bd9e-4dc0-b2e1-237f7c8001cf",
   "metadata": {
    "tags": []
   },
   "outputs": [
    {
     "name": "stdout",
     "output_type": "stream",
     "text": [
      "make: Entering directory '/home/clymber/Studio/kerdevel/ftrace/hello_ftrace'\n",
      "make -C /lib/modules/6.1.30/build M=/home/clymber/Studio/kerdevel/ftrace/hello_ftrace modules\n",
      "make[1]: Entering directory '/home/clymber/@linux'\n",
      "  CC [M]  /home/clymber/Studio/kerdevel/ftrace/hello_ftrace/hello_ftrace.o\n",
      "  MODPOST /home/clymber/Studio/kerdevel/ftrace/hello_ftrace/Module.symvers\n",
      "  CC [M]  /home/clymber/Studio/kerdevel/ftrace/hello_ftrace/hello_ftrace.mod.o\n",
      "  LD [M]  /home/clymber/Studio/kerdevel/ftrace/hello_ftrace/hello_ftrace.ko\n",
      "make[1]: Leaving directory '/home/clymber/@linux'\n",
      "make: Leaving directory '/home/clymber/Studio/kerdevel/ftrace/hello_ftrace'\n"
     ]
    }
   ],
   "source": [
    "make -C hello_ftrace"
   ]
  },
  {
   "cell_type": "code",
   "execution_count": 13,
   "id": "cdb3e441-d648-405c-a7f2-93f20172c3b8",
   "metadata": {
    "tags": []
   },
   "outputs": [
    {
     "name": "stdout",
     "output_type": "stream",
     "text": [
      "# tracer: function_graph\n",
      "#\n",
      "# CPU  DURATION                  FUNCTION CALLS\n",
      "# |     |   |                     |   |   |   |\n",
      " 0)               |  /* Hello, Ftrace! */\n",
      " ------------------------------------------\n",
      " 0)  insmod-10175  =>  rmmod-10177  \n",
      " ------------------------------------------\n",
      "\n",
      " 0)               |  /* Good bye, Ftrace! */\n"
     ]
    }
   ],
   "source": [
    "echo 'function_graph' > $DEBUGFS/tracing/current_tracer\n",
    "echo '0' > $DEBUGFS/tracing/tracing_on\n",
    "\n",
    "insmod hello_ftrace/hello_ftrace.ko    # install module\n",
    "rmmod hello_ftrace       # remove module\n",
    "filter_trace 'Ftrace'\n",
    "\n",
    "echo 'nop' > $DEBUGFS/tracing/current_tracer"
   ]
  },
  {
   "cell_type": "markdown",
   "id": "76f4be4d-c20e-44a1-b101-2f4d3e0eadbb",
   "metadata": {},
   "source": [
    "It worked! Let's try `function` tracer and have a look:"
   ]
  },
  {
   "cell_type": "code",
   "execution_count": 14,
   "id": "c4ba75e2-aa46-4fc4-9695-e8446d50318e",
   "metadata": {
    "tags": []
   },
   "outputs": [
    {
     "name": "stdout",
     "output_type": "stream",
     "text": [
      "# tracer: function\n",
      "#\n",
      "# entries-in-buffer/entries-written: 2/2   #P:8\n",
      "#\n",
      "#                                _-----=> irqs-off/BH-disabled\n",
      "#                               / _----=> need-resched\n",
      "#                              | / _---=> hardirq/softirq\n",
      "#                              || / _--=> preempt-depth\n",
      "#                              ||| / _-=> migrate-disable\n",
      "#                              |||| /     delay\n",
      "#           TASK-PID     CPU#  |||||  TIMESTAMP  FUNCTION\n",
      "#              | |         |   |||||     |         |\n",
      "          insmod-10199   [004] ..... 10808.424001: 0xffffffffc2071005: Hello, Ftrace!\n",
      "           rmmod-10201   [000] ..... 10808.482073: 0xffffffffc2071045: Good bye, Ftrace!\n"
     ]
    }
   ],
   "source": [
    "echo 'function' > $DEBUGFS/tracing/current_tracer\n",
    "\n",
    "insmod hello_ftrace/hello_ftrace.ko    # install module\n",
    "rmmod hello_ftrace       # remove module\n",
    "filter_trace 'Ftrace'\n",
    "\n",
    "echo 'nop' > $DEBUGFS/tracing/current_tracer"
   ]
  },
  {
   "cell_type": "markdown",
   "id": "b3bf37bd-adbe-429d-b3a6-daaf46eaef99",
   "metadata": {},
   "source": [
    "Things turned out very well.  \n",
    "But there's one thing interesting that got my attention: the IDs of processes that printed 'Hello, Ftrace!' and 'Good bye, Ftrace!' were different, 10199 and 10201 respectively, although the functions called are within the same kernel module, *hello_ftrace.ko*. I think it's because the modules which loaded in kernel are not running within a specific process.\n",
    "\n",
    "Each kernel module in the memory represents a shared object that contains symbols which processes can reference to, just like a shared library('xxx.so') in the user space does. I'll test and verify it in another experiment: [Get Process ID from a Kernel Module](../module_getpid/get_pid_from_kernel.ipynb)."
   ]
  },
  {
   "cell_type": "markdown",
   "id": "bf650c3f-0f26-43dd-a4f6-440f8d3ad6cd",
   "metadata": {},
   "source": [
    "### <a id='start_stop_recording'>2.6 Starting and Stopping the Trace Recording</a>\n",
    "\n",
    "Let's learn a bit more about how to control the trace recording feature.\n",
    "The file `tracing_on` is used to disable/enable the ring buffer from recording data:\n",
    "```sh\n",
    "echo '0' > tracing_on   # stop  tracing\n",
    "echo '1' > tracing_off  # start tracing \n",
    "```\n",
    "Note that don't confound the commands above with I/O redirection of shell script. The following commands will not work for the Ftrace:\n",
    "```sh\n",
    "echo 0> tracing_on  # redirect STDIN to tracing_on\n",
    "echo 1> tracing_off # redirect STDOUT to tracing_on\n",
    "```\n",
    "There are two functions that work well inside the kernel: `tracing_on()` and `tracing_off()`. These two act just like echoing \"1\" or \"0\" respectively into the tracing_on file.\n",
    "```c\n",
    "void tracing_on(void);\n",
    "void tracing_off(void);\n",
    "```\n",
    "Writing '0' into *tracing_on* will disable the Ftrace ring buffer from recording. Everything else still happens with the tracers and they will still incur most of their overhead. They do notice that the ring buffer is not recording and will not attempt to write any data, but the calls that the tracers make are still performed.  \n",
    "If we want to disable the ftrace, we should use the file *current_tracer* instead of *tracing_on*, see [Enable/Disable Ftrace](#enable_disable)."
   ]
  }
 ],
 "metadata": {
  "kernelspec": {
   "display_name": "Bash",
   "language": "bash",
   "name": "bash"
  },
  "language_info": {
   "codemirror_mode": "shell",
   "file_extension": ".sh",
   "mimetype": "text/x-sh",
   "name": "bash"
  }
 },
 "nbformat": 4,
 "nbformat_minor": 5
}
