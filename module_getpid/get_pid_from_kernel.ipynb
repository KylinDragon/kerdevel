{
 "cells": [
  {
   "cell_type": "markdown",
   "id": "86578b2b-6716-482c-8300-046ce022553d",
   "metadata": {},
   "source": [
    "# Get Process ID from a Kernel Module\n",
    "\n",
    "In a previous *Hello World* about Ftrace, [Debug the Linux Kernel Using Ftrace](../ftrace/ftrace.ipynb#ring_buff_overflow), I found that the functions in a kernel module are not always running within a specific process context, here are the scripts:\n",
    "```sh\n",
    "echo 'function' > $DEBUGFS/tracing/current_tracer\n",
    "\n",
    "insmod hello_ftrace/hello_ftrace.ko    # install module\n",
    "rmmod hello_ftrace       # remove module\n",
    "filter_trace 'Ftrace'\n",
    "\n",
    "echo 'nop' > $DEBUGFS/tracing/current_tracer\n",
    "```\n",
    "Here's the output from */sys/kernel/debug/tracing/trace*:\n",
    "```txt\n",
    "# tracer: function\n",
    "#\n",
    "# entries-in-buffer/entries-written: 2/2   #P:8\n",
    "#\n",
    "#                        _-----=> irqs-off/BH-disabled\n",
    "#                       / _----=> need-resched\n",
    "#                      | / _---=> hardirq/softirq\n",
    "#                      || / _--=> preempt-depth\n",
    "#                      ||| / _-=> migrate-disable\n",
    "#                      |||| /     delay\n",
    "#   TASK-PID     CPU#  |||||  TIMESTAMP  FUNCTION\n",
    "#      | |         |   |||||     |         |\n",
    "  insmod-10199   [004] ..... 10808.424001: 0xffffffffc2071005: Hello, Ftrace!\n",
    "   rmmod-10201   [000] ..... 10808.482073: 0xffffffffc2071045: Good bye, Ftrace!\n",
    "```\n",
    "\n",
    "A module in kernel, like *helloworld.ko*, usually serves like a shared object. When a process A, no matter it's a user space process or a kernel space thread, calls a functoin `func()` from the 'helloworld.ko', the kernel will run the function `func()` on behalf of process A. If the `func()` wants to get the current process ID, the ID should be the same as of process A."
   ]
  },
  {
   "cell_type": "markdown",
   "id": "14aa2f27-3fa5-4094-a4dc-715a3be317e4",
   "metadata": {},
   "source": [
    "Let's build a simple kernel module *hello_kernel.ko* to define a function `read_mypid()`. The only thing that `read_mypid()` function performs, is to output the current process ID to a `sysfs` file, */sys/module/&lt;module&gt;/parameters/mypid*. According to the previous deduction, whoever reads *mypid*, the file will return its own PID. For example, command `cat mypid` will output the PID of `cat` command, command `tail mypid` will output the PID of `tail` command. OK, let's try it:\n",
    "\n",
    "```C\n",
    "static int read_mypid(char* buff, const struct kernel_param* kp)\n",
    "{\n",
    "    return sprintf(buff, \"%d\", current->pid);\n",
    "}\n",
    "\n",
    "static const struct kernel_param_ops mypid_ops = {\n",
    "    .get = read_mypid\n",
    "};\n",
    "\n",
    "module_param_cb(mypid, &mypid_ops, NULL, 0444);\n",
    "MODULE_PARM_DESC(mypid, \"get my process id\");\n",
    "```\n",
    "The source tree is show below:  \n",
    "hello_kernel/  \n",
    "├── [hello_initexit.c](hello_kernel/hello_initexit.c)  \n",
    "├── [hello_module_param.c](hello_kernel/hello_module_param.c)  \n",
    "└── [Makefile](hello_kernel/Makefile)"
   ]
  },
  {
   "cell_type": "code",
   "execution_count": 3,
   "id": "f34ce5a2-8583-447c-9aff-8353757d9b18",
   "metadata": {
    "tags": []
   },
   "outputs": [
    {
     "name": "stdout",
     "output_type": "stream",
     "text": [
      "  LD [M]  /home/clymber/GitHub/kerdevel/module_getpid/hello_kernel/hello_getpid\u001b[01;31m\u001b[K.ko\u001b[m\u001b[K\n"
     ]
    }
   ],
   "source": [
    "# build the .ko\n",
    "make -C hello_kernel | grep '.ko$'"
   ]
  },
  {
   "cell_type": "code",
   "execution_count": 4,
   "id": "d6148984-1c13-44f9-96f6-97d0a89567d1",
   "metadata": {
    "tags": []
   },
   "outputs": [
    {
     "name": "stdout",
     "output_type": "stream",
     "text": [
      "-r--r--r-- 1 root root 4096 Jun  2 20:16 /sys/module/hello_getpid/parameters/mypid\n"
     ]
    }
   ],
   "source": [
    "# install .ko\n",
    "sudo insmod hello_kernel/hello_getpid.ko\n",
    "ls -l /sys/module/hello_getpid/parameters/mypid"
   ]
  },
  {
   "cell_type": "markdown",
   "id": "bb3cf93d-6a97-48fd-89fa-62cc172f8c56",
   "metadata": {},
   "source": [
    "If we `cat` the file *mypid*, it should output the PID of `cat`:"
   ]
  },
  {
   "cell_type": "code",
   "execution_count": 5,
   "id": "242a8791-b989-4a2d-b88b-4e6375974005",
   "metadata": {
    "tags": []
   },
   "outputs": [
    {
     "name": "stdout",
     "output_type": "stream",
     "text": [
      "11915\n"
     ]
    }
   ],
   "source": [
    "cat /sys/module/hello_getpid/parameters/mypid"
   ]
  },
  {
   "cell_type": "markdown",
   "id": "8563e744-fc6e-4b52-8d50-28023809f1b2",
   "metadata": {},
   "source": [
    "If we `tail` the file *mypid*, it should output the PID of `tail`:"
   ]
  },
  {
   "cell_type": "code",
   "execution_count": 6,
   "id": "3c2a20eb-b73d-498f-b2e5-1131381cdfcf",
   "metadata": {
    "tags": []
   },
   "outputs": [
    {
     "name": "stdout",
     "output_type": "stream",
     "text": [
      "11916\n"
     ]
    }
   ],
   "source": [
    "tail /sys/module/hello_getpid/parameters/mypid"
   ]
  },
  {
   "cell_type": "markdown",
   "id": "5ba108a9-1871-4fd1-b748-e5a2dc61e7b1",
   "metadata": {},
   "source": [
    "But how do we know the pid of `cat` or `tail`? The command `ps` is a good choice, but I have a simpler one:"
   ]
  },
  {
   "cell_type": "code",
   "execution_count": 7,
   "id": "fbd95e02-8a52-429b-a8e5-58d8b61221fa",
   "metadata": {
    "tags": []
   },
   "outputs": [
    {
     "name": "stdout",
     "output_type": "stream",
     "text": [
      "my current pid is: 11917\n",
      "pid got from kernel is: 11917\n"
     ]
    }
   ],
   "source": [
    "bash -c '\n",
    "printf \"my current pid is: $$\\n\"\n",
    "printf \"pid got from kernel is: \"\n",
    "\n",
    "# we run `cat` with `exec` to let `cat` to have the same pid\n",
    "exec cat /sys/module/hello_getpid/parameters/mypid\n",
    "'"
   ]
  },
  {
   "cell_type": "markdown",
   "id": "f3e097da-0a3a-47e7-b047-7f5a300473da",
   "metadata": {},
   "source": [
    "So, the conclusion is simple: a kernel module does not have a PID. It's a shared object in the kernel space that serves other processes."
   ]
  }
 ],
 "metadata": {
  "kernelspec": {
   "display_name": "Bash",
   "language": "bash",
   "name": "bash"
  },
  "language_info": {
   "codemirror_mode": "shell",
   "file_extension": ".sh",
   "mimetype": "text/x-sh",
   "name": "bash"
  }
 },
 "nbformat": 4,
 "nbformat_minor": 5
}
