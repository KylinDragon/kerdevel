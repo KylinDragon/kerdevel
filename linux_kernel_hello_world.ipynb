{
 "cells": [
  {
   "cell_type": "markdown",
   "id": "8b714b96-21a4-4f05-a90e-288600219ad8",
   "metadata": {},
   "source": [
    "# Linux Kernel Hello World\n",
    "\n",
    "This is simple kernel module.  \n",
    "- Print \"Hello, World!\" during module installation.\n",
    "- Print \"Good Bye, World!\" when the module is uninstalled."
   ]
  }
 ],
 "metadata": {
  "kernelspec": {
   "display_name": "C",
   "language": "c",
   "name": "c"
  },
  "language_info": {
   "file_extension": ".c",
   "mimetype": "text/plain",
   "name": "c"
  }
 },
 "nbformat": 4,
 "nbformat_minor": 5
}
