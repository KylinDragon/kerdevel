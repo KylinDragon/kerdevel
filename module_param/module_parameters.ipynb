{
 "cells": [
  {
   "cell_type": "markdown",
   "id": "1190781b-45d5-41a0-aa7b-10127441a702",
   "metadata": {},
   "source": [
    "# Linux Kernel Module Parameters\n",
    "\n",
    "The Linux kernel provides a simple framework, enabling drivers to declare parameters that the user can specify on either boot or module load and then have these parameters exposed in your driver as global variables.These module parameters also show up in `sysfs` system."
   ]
  },
  {
   "cell_type": "markdown",
   "id": "72fd31eb-c595-48a2-a46c-add8a013c07d",
   "metadata": {},
   "source": [
    "## 1. Loading a module with parameters\n",
    "We're going the write a demo kernel module, trying to pass parameters to the module during loading.\n",
    "```sh\n",
    "insmod ./hello-parameters.ko irq=20 name=mydev debug=1\n",
    "```\n",
    "We start with the following 'Hello, World!' source file:"
   ]
  },
  {
   "cell_type": "code",
   "execution_count": 1,
   "id": "451fd586-79d2-44f0-a4c3-110425f0c117",
   "metadata": {
    "tags": []
   },
   "outputs": [
    {
     "name": "stdout",
     "output_type": "stream",
     "text": [
      "Overwriting hello-parameters.c\n"
     ]
    }
   ],
   "source": [
    "%%writefile hello-parameters.c\n",
    "#include <linux/init.h>\n",
    "#include <linux/module.h>\n",
    "#include <linux/kernel.h>\n",
    "#include <linux/moduleparam.h>\n",
    "\n",
    "MODULE_LICENSE(\"GPL\");\n",
    "MODULE_AUTHOR(\"Clymber Loong\");\n",
    "MODULE_DESCRIPTION(\"A Hello, World Module\");\n",
    "\n",
    "static int   irq   = 10;\n",
    "static int   debug = 0;\n",
    "static char *name  = \"Hello World\"; \n",
    "\n",
    "static int hello_init(void)\n",
    "{\n",
    "    printk(KERN_ALERT \"Hello, World! name=%s, irq=%d, debug=%d\\n\", name, irq, debug);\n",
    "    return 0;\n",
    "}\n",
    "\n",
    "static void hello_exit(void)\n",
    "{\n",
    "    printk(KERN_ALERT \"Bye Bye, World!\\n\");\n",
    "}\n",
    "\n",
    "module_init(hello_init);\n",
    "module_exit(hello_exit);"
   ]
  },
  {
   "cell_type": "markdown",
   "id": "485f101b-5c22-41b5-b956-ffbfe4e69b88",
   "metadata": {},
   "source": [
    "### 1.1 Defining parameters\n",
    "\n",
    "Defining a module parameter is done via `the macro module_param()`:\n",
    "```c\n",
    "// @name: both the parameter exposed to the user and the variable holding\n",
    "//        the parameter inside your module;\n",
    "// @type: holds the parameter’s data type;\n",
    "// @perm: specifies the permissions of the corresponding file in sysfs.\n",
    "module_param(name, type, perm);\n",
    "```\n",
    "The `type` argument holds the parameter’s data type; it is one of byte, short, ushort, int, uint, long, ulong, charp, bool, or invbool.  \n",
    "These types are, respectively, a byte, a short integer, an unsigned short integer, an integer, an unsigned integer, a long integer, an unsigned long integer, a pointer to a char, a Boolean, and a Boolean whose value is inverted from what the user specifies.The byte type is stored in a single char and the Boolean types are stored in variables of type int."
   ]
  },
  {
   "cell_type": "code",
   "execution_count": 2,
   "id": "62aaf386-e526-451d-b685-6b522d49f82f",
   "metadata": {
    "tags": []
   },
   "outputs": [
    {
     "name": "stdout",
     "output_type": "stream",
     "text": [
      "Appending to hello-parameters.c\n"
     ]
    }
   ],
   "source": [
    "%%writefile -a hello-parameters.c\n",
    "module_param(irq, int, 0660);\n",
    "module_param(debug, int, 0660);\n",
    "module_param(name, charp, 0660);"
   ]
  },
  {
   "cell_type": "markdown",
   "id": "c21bb0da-7c89-4cbc-bbe7-ff861442c567",
   "metadata": {},
   "source": [
    "### 1.2 Documenting the parameters (Optional)\n",
    "\n",
    "We can document your parameters by using `MODULE_PARM_DESC()`:"
   ]
  },
  {
   "cell_type": "code",
   "execution_count": 3,
   "id": "0a3607be-68f4-4c4b-9cf4-d334b3e51cfb",
   "metadata": {},
   "outputs": [
    {
     "name": "stdout",
     "output_type": "stream",
     "text": [
      "Appending to hello-parameters.c\n"
     ]
    }
   ],
   "source": [
    "%%writefile -a hello-parameters.c\n",
    "\n",
    "MODULE_PARM_DESC(irq, \"The interrupt line number.\");\n",
    "MODULE_PARM_DESC(debug, \"Debug mode, 1 is on, 0 is off.\");\n",
    "MODULE_PARM_DESC(name, \"Your name\");"
   ]
  },
  {
   "cell_type": "markdown",
   "id": "2ab99905-7f7a-42f9-a8c6-d2bdf1cf591e",
   "metadata": {},
   "source": [
    "### 1.2 Passing parameters during loading module"
   ]
  },
  {
   "cell_type": "code",
   "execution_count": 4,
   "id": "08d1e197-2e0f-4a2a-a4d2-0938e1d7821f",
   "metadata": {
    "tags": []
   },
   "outputs": [
    {
     "name": "stdout",
     "output_type": "stream",
     "text": [
      "make -C /lib/modules/6.1.28/build M=/home/clymber/Studio/kerdevel/module_param modules\n",
      "make[1]: Entering directory '/home/clymber/Studio/@linux-6.1.28'\n",
      "  CC [M]  /home/clymber/Studio/kerdevel/module_param/hello-parameters.o\n",
      "  LD [M]  /home/clymber/Studio/kerdevel/module_param/module_param.o\n",
      "  MODPOST /home/clymber/Studio/kerdevel/module_param/Module.symvers\n",
      "  CC [M]  /home/clymber/Studio/kerdevel/module_param/module_param.mod.o\n",
      "  LD [M]  /home/clymber/Studio/kerdevel/module_param/module_param.ko\n",
      "make[1]: Leaving directory '/home/clymber/Studio/@linux-6.1.28'\n"
     ]
    }
   ],
   "source": [
    "! make"
   ]
  },
  {
   "cell_type": "code",
   "execution_count": 5,
   "id": "991711ab-4c1b-4124-9608-f483ebb16f9e",
   "metadata": {
    "tags": []
   },
   "outputs": [
    {
     "name": "stdout",
     "output_type": "stream",
     "text": [
      "[ 1996.929443] Hello, World! name=Clymber, irq=100, debug=1\n"
     ]
    }
   ],
   "source": [
    "%%script bash\n",
    "sudo dmesg -C\n",
    "sudo insmod ./*.ko name='Clymber' irq=100 debug=1\n",
    "sudo dmesg -c"
   ]
  },
  {
   "cell_type": "markdown",
   "id": "bf332aa2-c4fe-4075-aaa3-d3767f318793",
   "metadata": {},
   "source": [
    "### 1.3 Verify the result\n",
    "\n",
    "1. `/proc/modules` shows what kernel modules (drivers) are currently loaded into memory.\n",
    "2. These module parameters also show up in `sysfs` system."
   ]
  },
  {
   "cell_type": "code",
   "execution_count": 6,
   "id": "458c8bd2-5064-4979-b5a5-e6998d9a5ce7",
   "metadata": {
    "tags": []
   },
   "outputs": [],
   "source": [
    "! grep 'hello' /proc/modules"
   ]
  },
  {
   "cell_type": "code",
   "execution_count": 7,
   "id": "11d64f25-bd48-4004-857d-8add9e6ffc1d",
   "metadata": {
    "tags": []
   },
   "outputs": [
    {
     "name": "stdout",
     "output_type": "stream",
     "text": [
      "total 0\n",
      "-rw-rw---- 1 root root 4096 May 13 19:05 debug\n",
      "-rw-rw---- 1 root root 4096 May 13 19:05 irq\n",
      "-rw-rw---- 1 root root 4096 May 13 19:05 name\n"
     ]
    }
   ],
   "source": [
    "! ls -l /sys/module/module_param/parameters/"
   ]
  },
  {
   "cell_type": "markdown",
   "id": "955902cc-9eaa-4bbc-a7c5-6c47cde77eca",
   "metadata": {},
   "source": [
    "### 1.4 Cleaning up"
   ]
  },
  {
   "cell_type": "code",
   "execution_count": 9,
   "id": "582ac54a-922f-4e4a-b850-50f7efe0778e",
   "metadata": {
    "tags": []
   },
   "outputs": [
    {
     "name": "stdout",
     "output_type": "stream",
     "text": [
      "[ 1997.303060] Bye Bye, World!\n",
      "make -C /lib/modules/6.1.28/build M=/home/clymber/Studio/kerdevel/module_param clean\n",
      "make[1]: Entering directory '/home/clymber/Studio/@linux-6.1.28'\n",
      "  CLEAN   /home/clymber/Studio/kerdevel/module_param/Module.symvers\n",
      "make[1]: Leaving directory '/home/clymber/Studio/@linux-6.1.28'\n"
     ]
    }
   ],
   "source": [
    "%%script bash\n",
    "sudo rmmod ./*.ko\n",
    "sudo dmesg\n",
    "make clean"
   ]
  }
 ],
 "metadata": {
  "kernelspec": {
   "display_name": "Python 3 (ipykernel)",
   "language": "python",
   "name": "python3"
  },
  "language_info": {
   "codemirror_mode": {
    "name": "ipython",
    "version": 3
   },
   "file_extension": ".py",
   "mimetype": "text/x-python",
   "name": "python",
   "nbconvert_exporter": "python",
   "pygments_lexer": "ipython3",
   "version": "3.10.6"
  }
 },
 "nbformat": 4,
 "nbformat_minor": 5
}
