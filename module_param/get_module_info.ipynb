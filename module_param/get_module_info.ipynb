{
 "cells": [
  {
   "cell_type": "markdown",
   "id": "83eaeb98-3fbf-4b68-b458-c53dd9ec47b7",
   "metadata": {},
   "source": [
    "# Get Information of a Linux Kernel Module"
   ]
  },
  {
   "cell_type": "markdown",
   "id": "29c7918b-578e-4d95-a73b-c3015e2a9a59",
   "metadata": {},
   "source": [
    "## 1. `modinfo` -- Show a specific module infomation"
   ]
  },
  {
   "cell_type": "markdown",
   "id": "d7a1a7fd-00a5-4b84-903a-3ae7b8314c71",
   "metadata": {},
   "source": [
    "`modinfo` extracts information from the Linux Kernel modules given on the command line. If the module name is not a filename, then the _/lib/modules/&lt;kernel version&gt; directory_ is searched, as is also done by `modprobe` when loading kernel modules."
   ]
  },
  {
   "cell_type": "code",
   "execution_count": 1,
   "id": "74421efe-3f7c-49a1-a0e8-84990c55675d",
   "metadata": {
    "tags": []
   },
   "outputs": [
    {
     "name": "stdout",
     "output_type": "stream",
     "text": [
      "Usage:\n",
      "\tmodinfo [options] filename [args]\n",
      "Options:\n",
      "\t-a, --author                Print only 'author'\n",
      "\t-d, --description           Print only 'description'\n",
      "\t-l, --license               Print only 'license'\n",
      "\t-p, --parameters            Print only 'parm'\n",
      "\t-n, --filename              Print only 'filename'\n",
      "\t-0, --null                  Use \\0 instead of \\n\n",
      "\t-F, --field=FIELD           Print only provided FIELD\n",
      "\t-k, --set-version=VERSION   Use VERSION instead of `uname -r`\n",
      "\t-b, --basedir=DIR           Use DIR as filesystem root for /lib/modules\n",
      "\t-V, --version               Show version\n",
      "\t-h, --help                  Show this help\n"
     ]
    }
   ],
   "source": [
    "modinfo --help"
   ]
  },
  {
   "cell_type": "markdown",
   "id": "c393e72f-e6b1-4ed5-b31f-41012a721357",
   "metadata": {},
   "source": [
    "Let's reuse an previous _Hello World_, [Linux Kernel Module Parameters](module_parameters.ipynb), to demonstrate how to get information from a linux kernel module."
   ]
  },
  {
   "cell_type": "code",
   "execution_count": 2,
   "id": "68fa2220-5919-484b-b8fb-899e50eabc15",
   "metadata": {
    "tags": []
   },
   "outputs": [
    {
     "name": "stdout",
     "output_type": "stream",
     "text": [
      "make -C /lib/modules/6.1.29/build M=/home/clymber/Studio/kerdevel/module_param modules\n",
      "make[1]: Entering directory '/home/clymber/Studio/linux-6.1.29'\n",
      "make[1]: Leaving directory '/home/clymber/Studio/linux-6.1.29'\n"
     ]
    }
   ],
   "source": [
    "make"
   ]
  },
  {
   "cell_type": "markdown",
   "id": "5d9ec424-3fb8-45c5-8c64-6f7ff41df28c",
   "metadata": {},
   "source": [
    "### 1.1 `modinfo <filename>`\n",
    "\n",
    "This is the most straightforward usage of `modinfo` command, in which the _filename_ is the path to the module file. This will print all the information found in the _filename_:"
   ]
  },
  {
   "cell_type": "code",
   "execution_count": 3,
   "id": "7cf192ec-c65a-4e4e-902f-a598391de794",
   "metadata": {
    "tags": []
   },
   "outputs": [
    {
     "name": "stdout",
     "output_type": "stream",
     "text": [
      "filename:       /home/clymber/Studio/kerdevel/module_param/module_param.ko\n",
      "description:    A Hello, World Module\n",
      "author:         Clymber Loong\n",
      "license:        GPL\n",
      "srcversion:     77F5712DDBB750D3644A994\n",
      "depends:        \n",
      "retpoline:      Y\n",
      "name:           module_param\n",
      "vermagic:       6.1.29 SMP preempt mod_unload modversions \n",
      "parm:           irq:The interrupt line number. (int)\n",
      "parm:           debug:Debug mode, 1 is on, 0 is off. (int)\n",
      "parm:           name:Your name (charp)\n"
     ]
    }
   ],
   "source": [
    "modinfo \"module_param.ko\""
   ]
  },
  {
   "cell_type": "markdown",
   "id": "584f9c1f-bb9f-4fe1-813e-c378ad53c3b4",
   "metadata": {},
   "source": [
    "### 1.2 `modinfo <module_name>`\n",
    "\n",
    "The *module_name* here is not a file name, but a module name, and in this case it would be *module_param*:"
   ]
  },
  {
   "cell_type": "code",
   "execution_count": 4,
   "id": "2a1caffd-5abd-42ed-9e6e-2727e47f94d9",
   "metadata": {
    "tags": []
   },
   "outputs": [
    {
     "name": "stdout",
     "output_type": "stream",
     "text": [
      "modinfo: ERROR: Module module_param not found.\n"
     ]
    },
    {
     "ename": "",
     "evalue": "1",
     "output_type": "error",
     "traceback": []
    }
   ],
   "source": [
    "modinfo module_param"
   ]
  },
  {
   "cell_type": "markdown",
   "id": "386dd462-c0df-49e4-8041-b62e304ea5d8",
   "metadata": {},
   "source": [
    "Opps, sorry, there's an ERROR showed up. In the case of `modinfo <module_name>`, `modinfo` command looks for a module whos file name is *module_name.ko* within directry */lib/modules/&lt;kernel version&gt;*. But the *module_param.ko* has not been installed yet. Let's install the module first, and the try it again:"
   ]
  },
  {
   "cell_type": "code",
   "execution_count": 5,
   "id": "d80ff4f2-29cc-41ca-8a71-e6310ccdccb7",
   "metadata": {
    "tags": []
   },
   "outputs": [
    {
     "name": "stdout",
     "output_type": "stream",
     "text": [
      "make -C /lib/modules/6.1.29/build M=/home/clymber/Studio/kerdevel/module_param modules_install\n",
      "make[1]: Entering directory '/home/clymber/Studio/linux-6.1.29'\n",
      "  INSTALL /lib/modules/6.1.29/extra/module_param.ko\n",
      "  SIGN    /lib/modules/6.1.29/extra/module_param.ko\n",
      "  DEPMOD  /lib/modules/6.1.29\n",
      "make[1]: Leaving directory '/home/clymber/Studio/linux-6.1.29'\n"
     ]
    }
   ],
   "source": [
    "sudo make modules_install"
   ]
  },
  {
   "cell_type": "code",
   "execution_count": 6,
   "id": "a4998a89-1632-4b9a-a759-3eaffee773ec",
   "metadata": {
    "tags": []
   },
   "outputs": [
    {
     "name": "stdout",
     "output_type": "stream",
     "text": [
      "filename:       /lib/modules/6.1.29/extra/module_param.ko\n",
      "description:    A Hello, World Module\n",
      "author:         Clymber Loong\n",
      "license:        GPL\n",
      "srcversion:     77F5712DDBB750D3644A994\n",
      "depends:        \n",
      "retpoline:      Y\n",
      "name:           module_param\n",
      "vermagic:       6.1.29 SMP preempt mod_unload modversions \n",
      "sig_id:         PKCS#7\n",
      "signer:         Build time autogenerated kernel key\n",
      "sig_key:        52:A1:4F:D3:79:3E:E8:33:24:7A:36:91:3F:A3:49:88:74:59:D2:6F\n",
      "sig_hashalgo:   sha512\n",
      "signature:      D0:B1:64:C8:89:80:56:DC:D5:37:B8:77:1C:00:1D:70:E2:D5:E0:FC:\n",
      "\t\tF3:43:09:D9:93:D1:27:F0:76:2F:CB:D4:71:0D:4C:29:3F:56:57:13:\n",
      "\t\t5A:51:CC:75:FB:8F:7C:37:08:1F:F6:79:B3:0F:3B:94:6E:63:2F:D1:\n",
      "\t\tA3:AB:91:07:84:E6:3C:D6:33:77:08:28:D0:81:CB:12:B4:2C:2F:FF:\n",
      "\t\t81:1A:33:C4:5C:01:76:FD:FC:FF:D9:DB:7E:BF:6A:E1:5C:AD:0B:5E:\n",
      "\t\tCB:6C:83:A2:FF:1D:47:47:1F:B8:41:4B:3E:0F:2D:11:69:E4:CA:C6:\n",
      "\t\t28:D4:AC:94:C7:BD:27:51:9B:47:91:BA:D8:40:E9:F6:8B:9C:58:26:\n",
      "\t\t87:12:13:45:8B:A1:74:D8:7F:58:70:54:88:D8:E4:00:9C:BC:29:D6:\n",
      "\t\tD9:75:CE:EB:F0:7E:6A:BD:77:F7:08:E1:F7:71:94:A7:FE:DC:09:12:\n",
      "\t\t4F:04:B2:05:E7:BC:A8:3D:1C:08:02:1C:4D:F2:58:71:F4:27:69:20:\n",
      "\t\t2E:4B:39:BE:4A:5D:87:93:B8:93:84:B5:AA:DF:69:00:CB:04:BD:51:\n",
      "\t\tC1:BA:4A:A5:D9:66:08:75:BB:BD:B3:B4:33:7D:48:BF:A8:F9:20:98:\n",
      "\t\t99:03:CC:38:A9:D4:78:E0:90:55:BA:93:77:85:DC:C9:5C:7A:F6:30:\n",
      "\t\t2C:70:A1:68:96:86:B0:B7:75:AD:58:6B:B0:1D:72:63:1B:D4:AA:3C:\n",
      "\t\t33:CA:D5:F7:8D:51:5E:AA:01:2B:95:2F:5E:EE:04:86:FE:FB:FB:38:\n",
      "\t\tCF:B1:3A:A8:01:33:3A:59:3B:F0:C4:F5:C4:77:33:43:DF:08:EB:92:\n",
      "\t\t2C:15:48:5B:3E:37:BF:58:7B:EF:7F:3E:4F:2A:5C:30:E1:27:FA:79:\n",
      "\t\t17:0A:04:78:23:34:47:C6:70:24:D5:11:F6:A3:48:16:31:F2:54:B5:\n",
      "\t\tF9:C6:C7:86:08:9E:6D:64:67:88:0C:EA:76:FD:CD:8A:89:AA:75:82:\n",
      "\t\t6A:5E:4F:57:79:3C:7A:B0:42:5D:89:31:3B:C2:E2:5B:BF:5E:F8:6E:\n",
      "\t\t96:58:31:61:C6:72:98:BB:F0:4C:05:C5:0C:EF:4F:93:4F:29:37:ED:\n",
      "\t\t82:5C:D5:42:93:C8:8F:FB:A2:DA:35:A0:DD:93:58:C3:CE:58:B4:86:\n",
      "\t\t32:B7:1E:E5:25:E8:19:E9:2D:0E:6F:FB:7A:5D:0C:06:76:34:CC:70:\n",
      "\t\t16:3F:33:2C:34:69:77:40:A9:95:3D:22:18:4A:68:2A:8F:1E:71:94:\n",
      "\t\tDA:EB:7C:1F:3D:45:25:97:53:E5:BC:F3:10:30:9B:65:89:4B:8F:E8:\n",
      "\t\tB2:D9:E8:B7:A0:37:52:ED:61:7C:5C:95\n",
      "parm:           irq:The interrupt line number. (int)\n",
      "parm:           debug:Debug mode, 1 is on, 0 is off. (int)\n",
      "parm:           name:Your name (charp)\n"
     ]
    }
   ],
   "source": [
    "modinfo module_param"
   ]
  },
  {
   "cell_type": "markdown",
   "id": "a3c9eb2c-6112-4528-acf8-10a03fc58cf5",
   "metadata": {},
   "source": [
    "Bingo, we made it! The output shows that, the module file name is */lib/modules/$(uname -r)/extra/module_param.ko*, just as what we expected."
   ]
  },
  {
   "cell_type": "markdown",
   "id": "c6ce1325-11fe-4cc5-8557-6d717552a617",
   "metadata": {},
   "source": [
    "### 1.3 `modinfo -F|--field <fieldname>` - Print for Specific Field only\n",
    "\n",
    "This is very useful for shell script.  \n",
    "For example, the following command will print the parameters that a module supports:"
   ]
  },
  {
   "cell_type": "code",
   "execution_count": 7,
   "id": "e0f01cae-13d5-46b6-8c47-f8766da52929",
   "metadata": {
    "tags": []
   },
   "outputs": [
    {
     "name": "stdout",
     "output_type": "stream",
     "text": [
      "irq:The interrupt line number. (int)\n",
      "debug:Debug mode, 1 is on, 0 is off. (int)\n",
      "name:Your name (charp)\n"
     ]
    }
   ],
   "source": [
    "modinfo --field \"parm\" module_param.ko"
   ]
  },
  {
   "cell_type": "markdown",
   "id": "b5684a14-c7cc-4107-8578-d56c531869d7",
   "metadata": {},
   "source": [
    "## 2. `lsmod` and */proc/modules* -- Show the status of modules in the Linux Kernel\n",
    "\n",
    "`lsmod` is a trivial program which nicely formats the contents of the */proc/modules*, showing what kernel modules are currently loaded."
   ]
  },
  {
   "cell_type": "code",
   "execution_count": 8,
   "id": "bf4fa8c4-ec14-4442-96d4-b34a6c5cba3a",
   "metadata": {
    "tags": []
   },
   "outputs": [
    {
     "name": "stdout",
     "output_type": "stream",
     "text": [
      "Module                  Size  Used by\n",
      "ipheth                 16384  0\n",
      "apple_mfi_fastcharge    20480  0\n",
      "rfcomm                 86016  4\n",
      "xt_conntrack           16384  1\n",
      "nft_chain_nat          16384  3\n",
      "xt_MASQUERADE          20480  1\n",
      "nf_nat                 49152  2 nft_chain_nat,xt_MASQUERADE\n",
      "nf_conntrack_netlink    49152  0\n",
      "nf_conntrack          167936  4 xt_conntrack,nf_nat,nf_conntrack_netlink,xt_MASQUERADE\n"
     ]
    }
   ],
   "source": [
    "lsmod | head"
   ]
  },
  {
   "cell_type": "code",
   "execution_count": null,
   "id": "e0c9fecd-9968-4096-a038-d7b54b55e60a",
   "metadata": {
    "tags": []
   },
   "outputs": [],
   "source": [
    "head /proc/modules"
   ]
  },
  {
   "cell_type": "code",
   "execution_count": 9,
   "id": "b4785216-f3ed-4536-bb58-9acae92da007",
   "metadata": {
    "tags": []
   },
   "outputs": [
    {
     "name": "stdout",
     "output_type": "stream",
     "text": [
      "\u001b[32m[ 6370.486366] \u001b[0m\u001b[7m\u001b[31mHello, World! name=Hello World, irq=10, debug=0\u001b[0m\n",
      "\u001b[01;31m\u001b[Kmodule_param\u001b[m\u001b[K           16384  0\n"
     ]
    }
   ],
   "source": [
    "sudo dmesg -C\n",
    "sudo insmod module_param.ko; sudo dmesg -c\n",
    "lsmod | grep 'module_param'"
   ]
  },
  {
   "cell_type": "code",
   "execution_count": 10,
   "id": "7a093cab-d947-4caa-b686-9d9489612ea6",
   "metadata": {
    "tags": []
   },
   "outputs": [
    {
     "name": "stdout",
     "output_type": "stream",
     "text": [
      "\u001b[32m[ 6372.782770] \u001b[0m\u001b[7m\u001b[31mBye Bye, World!\u001b[0m\n",
      "module not found\n"
     ]
    }
   ],
   "source": [
    "sudo rmmod module_param.ko; sudo dmesg -c\n",
    "lsmod | grep 'module_param' || echo \"module not found\""
   ]
  },
  {
   "cell_type": "markdown",
   "id": "c1ed382e-d0f5-4d98-8771-0be2b98aaa86",
   "metadata": {},
   "source": [
    "## Clean Up"
   ]
  },
  {
   "cell_type": "code",
   "execution_count": 11,
   "id": "08d9b4c7-0933-4dae-93e3-9aea3e241bea",
   "metadata": {
    "tags": []
   },
   "outputs": [
    {
     "name": "stdout",
     "output_type": "stream",
     "text": [
      "make -C /lib/modules/6.1.29/build M=/home/clymber/Studio/kerdevel/module_param clean\n",
      "make[1]: Entering directory '/home/clymber/Studio/linux-6.1.29'\n",
      "  CLEAN   /home/clymber/Studio/kerdevel/module_param/Module.symvers\n",
      "make[1]: Leaving directory '/home/clymber/Studio/linux-6.1.29'\n"
     ]
    }
   ],
   "source": [
    "sudo rm /lib/modules/$(uname -r)/extra/module_param.ko\n",
    "sudo depmod -a\n",
    "make clean"
   ]
  }
 ],
 "metadata": {
  "kernelspec": {
   "display_name": "Bash",
   "language": "bash",
   "name": "bash"
  },
  "language_info": {
   "codemirror_mode": "shell",
   "file_extension": ".sh",
   "mimetype": "text/x-sh",
   "name": "bash"
  }
 },
 "nbformat": 4,
 "nbformat_minor": 5
}
