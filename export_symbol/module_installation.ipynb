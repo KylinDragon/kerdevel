{
 "cells": [
  {
   "cell_type": "markdown",
   "id": "0a339b66-9cb8-4dc2-8a8b-70c5dec1c6c6",
   "metadata": {},
   "source": [
    "# Module Installation and Uninstallation\n",
    "\n",
    "- [Install/Uninstall a module onto the system -- `make modules_install`](#install_uninstall)\n",
    "- [Load a module into memory, or unload a module from memory -- `insmod` and `rmmod`](#insmod_rmmod)\n",
    "- [Module dependency and solution -- `modprobe` and `depmod`](dependency_resolution_modprobe.ipynb)\n",
    "\n",
    "Let's reuse the kernel module generated from project [Export Kernel Symbols](export_symbol/export_kernel_symbols.ipynb):"
   ]
  },
  {
   "cell_type": "code",
   "execution_count": 1,
   "id": "1294f048-4847-4ff8-8a4d-6eee61d87e4a",
   "metadata": {
    "tags": []
   },
   "outputs": [
    {
     "name": "stdout",
     "output_type": "stream",
     "text": [
      "  LD [M]  /home/clymber/Studio/kerdevel/export_symbol/hello_api\u001b[01;31m\u001b[K.ko\u001b[m\u001b[K\n",
      "  LD [M]  /home/clymber/Studio/kerdevel/export_symbol/hello_feature\u001b[01;31m\u001b[K.ko\u001b[m\u001b[K\n"
     ]
    }
   ],
   "source": [
    "make | grep '\\.ko$'"
   ]
  },
  {
   "cell_type": "code",
   "execution_count": 2,
   "id": "7fe1b14f-df39-44d7-93bd-cc991ac4cb47",
   "metadata": {
    "tags": []
   },
   "outputs": [
    {
     "name": "stdout",
     "output_type": "stream",
     "text": [
      "filename:       /home/clymber/Studio/kerdevel/export_symbol/hello_api.ko\n",
      "description:    A hello world to export kernel symbols.\n",
      "author:         Clymber Loong\n",
      "license:        GPL\n",
      "srcversion:     A7004390F0CCB7F5838113A\n",
      "depends:        \n",
      "retpoline:      Y\n",
      "name:           hello_api\n",
      "vermagic:       6.1.29 SMP preempt mod_unload modversions \n",
      "filename:       /home/clymber/Studio/kerdevel/export_symbol/hello_feature.ko\n",
      "description:    A demo to invoke symbols that other modules exported.\n",
      "author:         Clymber Loong\n",
      "license:        GPL\n",
      "srcversion:     340E072184795092C2B1DC1\n",
      "depends:        hello_api\n",
      "retpoline:      Y\n",
      "name:           hello_feature\n",
      "vermagic:       6.1.29 SMP preempt mod_unload modversions \n"
     ]
    }
   ],
   "source": [
    "modinfo hello_api.ko\n",
    "modinfo hello_feature.ko"
   ]
  },
  {
   "cell_type": "markdown",
   "id": "f9090031-64e0-4fd1-9253-26dd8c593406",
   "metadata": {},
   "source": [
    "From the outputs of commands above, we can see that now we have two kernel modules: *hello_features.ko* and *hello_api.ko*. And according to the output \"depends:        hello_api\", we know the the former one depends on the latter."
   ]
  },
  {
   "cell_type": "markdown",
   "id": "9feac7c2-7d18-4e6e-9b1b-f738d99ac5cf",
   "metadata": {},
   "source": [
    "## <a id=\"install_uninstall\"> 1. Module Installation and Uninstallation.</a>\n",
    "\n",
    "Now we are not talking about how to load a kernel module from an external filesystem(such as a hard drive) into the kernel runtime. We are exploring how to inatall a newly built module, like *hello_api.ko*, into Linux standard filesystem hierarchy. According [Filesystem Hierarchy Standard](https://refspecs.linuxfoundation.org/FHS_3.0/fhs/index.html), and a little exploration on the distro I currently use - Ubuntu 22.04, the newly compiled modules should be install into */lib/modules/&lt;kernel release&gt;*:"
   ]
  },
  {
   "cell_type": "code",
   "execution_count": 4,
   "id": "cc7b8444-43b6-47ab-8589-56406f877e65",
   "metadata": {
    "tags": []
   },
   "outputs": [
    {
     "name": "stdout",
     "output_type": "stream",
     "text": [
      "6.1.29\n",
      "\u001b[0m\u001b[01;34m5.19.0-41-generic\u001b[0m\n",
      "\u001b[01;34m6.1.29\u001b[0m\n"
     ]
    }
   ],
   "source": [
    "uname -r # get kernel release\n",
    "ls -1 /lib/modules"
   ]
  },
  {
   "cell_type": "markdown",
   "id": "cc6e6195-2ffa-41dd-a171-94aefe59fdc2",
   "metadata": {},
   "source": [
    "### 1.1 Install through the *Makefile*\n",
    "\n",
    "If we have the module source tree at hand with a propriate *Makefile*, this is an easy and recommendable way to install a module, just employ the command: `make modules_install`. It handles the toiling work: where to install the module,  how to generate the dependency information, and how to sign the signation, etc. Here is my *Makefile*:"
   ]
  },
  {
   "cell_type": "code",
   "execution_count": 6,
   "id": "55685e51-afce-4e08-bfc9-839936fd2d5d",
   "metadata": {
    "tags": []
   },
   "outputs": [
    {
     "name": "stdout",
     "output_type": "stream",
     "text": [
      "obj-m              = hello_api.o\n",
      "hello_api-objs     = hello_api_inexit.o\n",
      "\n",
      "KERN_BUILD := /lib/modules/$(shell uname -r)/build\n",
      "MODULE_DIR := $(abspath $(dir $(lastword $(MAKEFILE_LIST))))\n",
      "\n",
      "modules modules_install clean:\n",
      "\tmake -C $(KERN_BUILD) M=$(MODULE_DIR) $@\n",
      "\n",
      "hello_api-objs += hello_api_test.o\n",
      "\n",
      "obj-m += hello_feature.o\n"
     ]
    }
   ],
   "source": [
    "cat Makefile"
   ]
  },
  {
   "cell_type": "markdown",
   "id": "e2eee1a7-001a-452e-b21f-76d6cae7b4ba",
   "metadata": {
    "tags": []
   },
   "source": [
    "On the output above, \"obj-m = hello_api.o\" and \"obj-m += hello_feature.o\" shows that *hello_api.ko* and *hello_feature.ko* will be installed if we perform command `make modules_install`. Let's have a try:"
   ]
  },
  {
   "cell_type": "code",
   "execution_count": 19,
   "id": "5863fdf9-df76-4cf4-8c08-ad8fafadccfe",
   "metadata": {
    "tags": []
   },
   "outputs": [
    {
     "name": "stdout",
     "output_type": "stream",
     "text": [
      "make -C /lib/modules/6.1.29/build M=/home/clymber/Studio/kerdevel/export_symbol modules_install\n",
      "make[1]: Entering directory '/home/clymber/Studio/linux-6.1.29'\n",
      "  INSTALL /lib/modules/6.1.29/extra/hello_api.ko\n",
      "  SIGN    /lib/modules/6.1.29/extra/hello_api.ko\n",
      "  INSTALL /lib/modules/6.1.29/extra/hello_feature.ko\n",
      "  SIGN    /lib/modules/6.1.29/extra/hello_feature.ko\n",
      "  DEPMOD  /lib/modules/6.1.29\n",
      "make[1]: Leaving directory '/home/clymber/Studio/linux-6.1.29'\n"
     ]
    }
   ],
   "source": [
    "sudo make modules_install"
   ]
  },
  {
   "cell_type": "markdown",
   "id": "a913b674-91bd-447b-ab7a-dc8ff3d2e5fb",
   "metadata": {},
   "source": [
    "Great! Now let's check the result:"
   ]
  },
  {
   "cell_type": "code",
   "execution_count": 27,
   "id": "2929fbee-53fa-4966-a7fc-8c8a005a6d13",
   "metadata": {
    "tags": []
   },
   "outputs": [
    {
     "name": "stdout",
     "output_type": "stream",
     "text": [
      "/lib/modules/6.1.29/extra/hello_api.ko\n",
      "/lib/modules/6.1.29/extra/hello_feature.ko\n"
     ]
    }
   ],
   "source": [
    "# check where were the modules install:\n",
    "find \"/lib/modules/$(uname -r)\" -name 'hello_*.ko'"
   ]
  },
  {
   "cell_type": "code",
   "execution_count": 28,
   "id": "65a73f8e-246d-48ae-b377-9961a96d8a21",
   "metadata": {
    "tags": []
   },
   "outputs": [
    {
     "name": "stdout",
     "output_type": "stream",
     "text": [
      "extra/\u001b[01;31m\u001b[Khello_\u001b[m\u001b[Kapi.ko:\n",
      "extra/\u001b[01;31m\u001b[Khello_\u001b[m\u001b[Kfeature.ko: extra/\u001b[01;31m\u001b[Khello_\u001b[m\u001b[Kapi.ko\n"
     ]
    }
   ],
   "source": [
    "# check the module dependcy:\n",
    "grep 'hello_' \"/lib/modules/$(uname -r)/modules.dep\""
   ]
  },
  {
   "cell_type": "code",
   "execution_count": 30,
   "id": "675611ee-241b-4b6a-be2b-d23bf491bfb4",
   "metadata": {
    "tags": []
   },
   "outputs": [
    {
     "name": "stdout",
     "output_type": "stream",
     "text": [
      "BD:FC:BC:EE:9C:E4:55:7E:0A:B7:FE:03:91:72:55:6B:76:1B:20:75:\n",
      "\t\tB7:F4:DA:B9:10:2B:A4:49:C8:50:6C:E3:2A:CA:07:F7:73:02:C6:92:\n",
      "\t\tA1:54:16:7D:9D:BA:5D:E0:8A:71:C5:65:E8:43:62:B2:27:8B:F8:C1:\n",
      "\t\tB6:25:11:47:17:7A:3F:27:72:DF:4F:E5:40:11:23:69:68:D9:E8:B8:\n",
      "\t\t87:66:20:97:5E:E7:76:77:6A:95:5D:40:AF:2B:39:0C:39:9F:B0:62:\n",
      "\t\t3B:B9:DE:A5:AA:D5:9D:58:F8:53:28:15:F8:96:4C:2E:C7:4A:21:C6:\n",
      "\t\t2D:F0:3A:B4:71:87:87:BC:4D:7D:AE:06:85:BA:AC:48:84:B0:CA:8B:\n",
      "\t\t54:0B:68:B2:8C:00:C5:89:C1:E7:00:33:F1:73:52:30:43:54:32:0B:\n",
      "\t\t44:F3:20:8C:C1:F9:88:F6:FD:CA:DB:D7:9F:28:F8:6D:41:5C:14:D6:\n",
      "\t\tFB:89:91:EA:BF:00:06:A3:38:96:98:6C:A2:30:1B:CE:08:E3:77:DF:\n",
      "\t\t32:14:51:7F:D6:EE:FE:6A:54:0D:88:9B:32:9B:4A:2D:87:14:67:10:\n",
      "\t\tB4:5F:92:31:30:3D:2C:2E:0C:65:F6:E9:E6:A5:27:47:4B:9A:5A:5E:\n",
      "\t\tD5:04:4C:D6:2F:43:AA:D4:DF:AC:38:5B:D5:6A:79:BC:44:26:4C:47:\n",
      "\t\t12:3C:9C:03:36:E1:08:90:1D:34:62:82:8A:C5:E3:30:32:0E:C9:D0:\n",
      "\t\t79:E3:B5:14:63:48:35:C0:81:E5:5D:53:45:F5:92:54:4B:01:AA:EF:\n",
      "\t\tF9:8C:3E:FF:17:1A:3B:A5:3A:92:BF:C0:9C:4F:9E:1A:5A:7E:73:BC:\n",
      "\t\t51:F4:E6:EA:27:00:72:2A:F2:0A:D6:70:60:94:1F:02:EC:EA:4D:00:\n",
      "\t\t11:54:DA:29:90:C7:A2:29:20:6B:6D:43:8D:3A:97:BF:DC:C0:58:24:\n",
      "\t\tD7:85:97:01:83:51:34:E1:63:A0:D5:5A:E0:41:25:71:A8:4E:4A:8B:\n",
      "\t\t47:6A:0C:9F:8B:0B:BA:1D:B3:7D:A2:1D:B3:6D:1D:4B:68:A1:37:D9:\n",
      "\t\tCE:2A:ED:D2:B1:D4:83:01:A9:DE:26:AF:F2:46:AB:2F:FB:67:14:87:\n",
      "\t\tBE:AD:CF:9D:6E:4C:95:6A:22:57:E7:49:15:1E:C7:7D:7C:2E:25:7D:\n",
      "\t\t6C:C1:A1:56:7C:2E:56:97:01:11:2B:73:8E:82:64:15:7C:99:46:B6:\n",
      "\t\t0F:A0:40:A9:5E:44:49:E1:74:25:29:4B:F7:2F:7B:26:A9:D8:32:06:\n",
      "\t\tEE:15:BD:9C:AA:73:BE:7D:0E:D5:AA:88:F6:A1:78:06:CD:6A:05:48:\n",
      "\t\tBF:2A:4F:45:24:B0:33:23:7E:62:D1:50\n"
     ]
    }
   ],
   "source": [
    "# check the signature:\n",
    "modinfo --field signature hello_api"
   ]
  },
  {
   "cell_type": "markdown",
   "id": "d89f9e05-5bff-4a01-b053-64e3c7fb49c3",
   "metadata": {},
   "source": [
    "## 1.2 Uninstall a kernel module\n",
    "\n",
    "I don't know whether there's a standard way to install a kernel module yet. Let's remove it manually this time.\n",
    "- step 1: remove the module file from the system.\n",
    "- step 2: re-generate the dependency information."
   ]
  },
  {
   "cell_type": "code",
   "execution_count": 31,
   "id": "e8fbcd86-18a0-4f69-a3c5-77dadd6f125d",
   "metadata": {
    "tags": []
   },
   "outputs": [],
   "source": [
    "find \"/lib/modules/$(uname -r)\" -name 'hello_*.ko' -exec sudo rm '{}' \\;\n",
    "sudo depmod -a"
   ]
  },
  {
   "cell_type": "code",
   "execution_count": 33,
   "id": "2c26199c-26e1-4f77-9d04-9d42d73ec82c",
   "metadata": {
    "tags": []
   },
   "outputs": [
    {
     "name": "stdout",
     "output_type": "stream",
     "text": [
      "not found\n"
     ]
    }
   ],
   "source": [
    "# check the module dependcy:\n",
    "grep 'hello_' \"/lib/modules/$(uname -r)/modules.dep\" || echo 'not found'"
   ]
  },
  {
   "cell_type": "markdown",
   "id": "b9ab31d6-e7b8-428d-b43e-fc5f79641974",
   "metadata": {},
   "source": [
    "## 1.3 Install module manually\n",
    "\n",
    "If we don't have the module source tree, or if we only want to install `hello_api.ko` but not `hello_feature.ko`, we can install the module manually. The steps are simple:  \n",
    "- step 1: copy the module the targeted directory, for example, */lib/modules/\\$(uname -r)*.   \n",
    "- step 2 (optionally): sign the signature for the module(I have never tried it yet).  \n",
    "- step 3: generate dependency information in the file */lib/modules/\\$(uname -r)/modules.dep*."
   ]
  },
  {
   "cell_type": "code",
   "execution_count": 35,
   "id": "57e50a54-2c54-4527-b6b5-9bbaeb3553b8",
   "metadata": {
    "tags": []
   },
   "outputs": [],
   "source": [
    "sudo cp \"hello_api.ko\" \"hello_feature.ko\" \"/lib/modules/$(uname -r)/extra/\"\n",
    "sudo depmod -a"
   ]
  },
  {
   "cell_type": "code",
   "execution_count": 36,
   "id": "32c0a4c8-05e7-4033-91b9-aeb946b21756",
   "metadata": {
    "tags": []
   },
   "outputs": [
    {
     "name": "stdout",
     "output_type": "stream",
     "text": [
      "extra/\u001b[01;31m\u001b[Khello_\u001b[m\u001b[Kapi.ko:\n",
      "extra/\u001b[01;31m\u001b[Khello_\u001b[m\u001b[Kfeature.ko: extra/\u001b[01;31m\u001b[Khello_\u001b[m\u001b[Kapi.ko\n"
     ]
    }
   ],
   "source": [
    "# check the module dependcy:\n",
    "grep 'hello_' \"/lib/modules/$(uname -r)/modules.dep\" || echo 'not found'"
   ]
  },
  {
   "cell_type": "markdown",
   "id": "d8eecbfc-2c4c-444b-a1c5-0ba2092ec857",
   "metadata": {},
   "source": [
    "## 2. <a id=\"insmod_rmmod\"> Load/unload a module into/from memory -- `insmod` and `rmmod` </a>"
   ]
  },
  {
   "cell_type": "code",
   "execution_count": 37,
   "id": "a85efabf-afc9-45da-9911-87a4bd874537",
   "metadata": {
    "tags": []
   },
   "outputs": [
    {
     "name": "stdout",
     "output_type": "stream",
     "text": [
      "Usage:\n",
      "\tinsmod [options] filename [args]\n",
      "Options:\n",
      "\t-V, --version     show version\n",
      "\t-h, --help        show this help\n"
     ]
    }
   ],
   "source": [
    "insmod --help"
   ]
  },
  {
   "cell_type": "code",
   "execution_count": 38,
   "id": "88713261-e304-4f1f-9afb-5110f71d71f0",
   "metadata": {
    "tags": []
   },
   "outputs": [
    {
     "name": "stdout",
     "output_type": "stream",
     "text": [
      "Usage:\n",
      "\trmmod [options] modulename ...\n",
      "Options:\n",
      "\t-f, --force       forces a module unload and may crash your\n",
      "\t                  machine. This requires Forced Module Removal\n",
      "\t                  option in your kernel. DANGEROUS\n",
      "\t-s, --syslog      print to syslog, not stderr\n",
      "\t-v, --verbose     enables more messages\n",
      "\t-V, --version     show version\n",
      "\t-h, --help        show this help\n"
     ]
    }
   ],
   "source": [
    "rmmod --help"
   ]
  },
  {
   "cell_type": "markdown",
   "id": "5b0e70a6-93b8-4cc2-87f8-619d7517e63d",
   "metadata": {},
   "source": [
    "### 2.1 Load a module with `insmod`"
   ]
  },
  {
   "cell_type": "code",
   "execution_count": 47,
   "id": "cdd99f25-41ba-4d22-ad36-326c60081e0f",
   "metadata": {
    "tags": []
   },
   "outputs": [
    {
     "name": "stdout",
     "output_type": "stream",
     "text": [
      "\u001b[32m[14831.622611] \u001b[0m[hello_api] Hello, World!\n",
      "\u001b[32m[14831.688881] \u001b[0m[hello_feature] Hello, World!\n"
     ]
    }
   ],
   "source": [
    "sudo dmesg -C\n",
    "sudo insmod hello_api.ko; sudo dmesg -c\n",
    "sudo insmod hello_feature.ko; sudo dmesg -c"
   ]
  },
  {
   "cell_type": "code",
   "execution_count": 48,
   "id": "6d68b46c-e7cf-4d1a-bde9-8aca7543eeb8",
   "metadata": {
    "tags": []
   },
   "outputs": [
    {
     "name": "stdout",
     "output_type": "stream",
     "text": [
      "\u001b[01;31m\u001b[Khello_\u001b[m\u001b[Kfeature          16384  0\n",
      "\u001b[01;31m\u001b[Khello_\u001b[m\u001b[Kapi              16384  1 \u001b[01;31m\u001b[Khello_\u001b[m\u001b[Kfeature\n"
     ]
    }
   ],
   "source": [
    "lsmod | grep 'hello_'"
   ]
  },
  {
   "cell_type": "markdown",
   "id": "7d7e4344-cf47-45f7-bef7-d0c533d3864c",
   "metadata": {},
   "source": [
    "The `lsmod` command shows that two modules are successfully loaded into memory."
   ]
  },
  {
   "cell_type": "markdown",
   "id": "759fb2e9-05bf-4a97-aac4-19b4ade38a6a",
   "metadata": {},
   "source": [
    "### 2.2 Unload a module with `rmmod`"
   ]
  },
  {
   "cell_type": "code",
   "execution_count": 49,
   "id": "918407a1-65c8-49f0-83e4-4c6a136a43ae",
   "metadata": {
    "tags": []
   },
   "outputs": [
    {
     "name": "stdout",
     "output_type": "stream",
     "text": [
      "\u001b[32m[14831.688883] \u001b[0m[hello_api] this is a test message.\n",
      "\u001b[32m[14939.069633] \u001b[0m[hello_feature] Bye Bye, World!\n",
      "\u001b[32m[14939.167012] \u001b[0m[hello_api] Bye bye, World!\n"
     ]
    }
   ],
   "source": [
    "sudo rmmod hello_feature; sudo dmesg -c\n",
    "sudo rmmod hello_api; sudo dmesg -c"
   ]
  },
  {
   "cell_type": "code",
   "execution_count": 50,
   "id": "adea65e9-8992-4ea2-ac97-6cda45d3d760",
   "metadata": {
    "tags": []
   },
   "outputs": [
    {
     "name": "stdout",
     "output_type": "stream",
     "text": [
      "not found\n"
     ]
    }
   ],
   "source": [
    "lsmod | grep 'hello_' || echo 'not found'"
   ]
  },
  {
   "cell_type": "markdown",
   "id": "4a3c2182-e9c4-42df-95f9-af0d24cdecfa",
   "metadata": {
    "tags": []
   },
   "source": [
    "### 2.3 The dependency issues\n",
    "\n",
    "`insmod` or `rmmod` will not handle and dependcy issues."
   ]
  },
  {
   "cell_type": "code",
   "execution_count": 45,
   "id": "9e4c8c36-3977-427d-89fc-3a17ed575ab4",
   "metadata": {
    "tags": []
   },
   "outputs": [
    {
     "name": "stdout",
     "output_type": "stream",
     "text": [
      "hello_api\n"
     ]
    }
   ],
   "source": [
    "sudo modinfo --field depends hello_feature"
   ]
  },
  {
   "cell_type": "markdown",
   "id": "374a18aa-7840-46da-88cb-9485a68dd527",
   "metadata": {},
   "source": [
    "The output above shows that module *hello_feature* depends on *hello_api*, so if we try to load *hello_feature* before *hello_api*, or if we try to unload *hello_api* while *hello_feature* is still in the memory, we will fail:"
   ]
  },
  {
   "cell_type": "code",
   "execution_count": 46,
   "id": "98c243cf-96c5-4d72-9be7-7fd375ff0ec1",
   "metadata": {
    "tags": []
   },
   "outputs": [
    {
     "name": "stdout",
     "output_type": "stream",
     "text": [
      "insmod: ERROR: could not insert module hello_feature.ko: Unknown symbol in module\n",
      "\u001b[32m[14797.712189] \u001b[0m\u001b[33mhello_feature\u001b[0m\u001b[1m: Unknown symbol api_test (err -2)\u001b[0m\n"
     ]
    }
   ],
   "source": [
    "sudo insmod hello_feature.ko; sudo dmesg -c"
   ]
  },
  {
   "cell_type": "code",
   "execution_count": 53,
   "id": "b58e5ed0-5def-469b-b01f-7c9d64d789bc",
   "metadata": {
    "tags": []
   },
   "outputs": [
    {
     "name": "stdout",
     "output_type": "stream",
     "text": [
      "\u001b[32m[15095.523144] \u001b[0m[hello_api] Hello, World!\n",
      "\u001b[32m[15095.588409] \u001b[0m[hello_feature] Hello, World!\n",
      "rmmod: ERROR: Module hello_api is in use by: hello_feature\n"
     ]
    }
   ],
   "source": [
    "# load\n",
    "sudo insmod hello_api.ko; sudo dmesg -c\n",
    "sudo insmod hello_feature.ko; sudo dmesg -c\n",
    "\n",
    "# unload\n",
    "sudo rmmod hello_api.ko; sudo dmesg -c"
   ]
  },
  {
   "cell_type": "code",
   "execution_count": 52,
   "id": "ae90d10e-bd74-4d5f-9666-1752b3bfefec",
   "metadata": {
    "tags": []
   },
   "outputs": [
    {
     "name": "stdout",
     "output_type": "stream",
     "text": [
      "\u001b[32m[15085.534347] \u001b[0m[hello_api] Bye bye, World!\n"
     ]
    }
   ],
   "source": [
    "\n",
    "sudo rmmod hello_api; sudo dmesg -c"
   ]
  },
  {
   "cell_type": "markdown",
   "id": "b7b830ca-5462-47e2-a793-6c25c149a6bd",
   "metadata": {},
   "source": [
    "If we don't want to solve the dependency toil, use `modprobe` instead of `insmod/rmmod`: [Module dependency and solution -- `modprobe` and `depmod`](dependency_resolution_modprobe.ipynb)"
   ]
  },
  {
   "cell_type": "markdown",
   "id": "5e92bc71-acfb-4913-bb8b-60e3c87b394f",
   "metadata": {},
   "source": [
    "## Clean up"
   ]
  },
  {
   "cell_type": "code",
   "execution_count": 55,
   "id": "4fab1453-a7c9-4752-9479-a77c716b0c35",
   "metadata": {
    "tags": []
   },
   "outputs": [
    {
     "name": "stdout",
     "output_type": "stream",
     "text": [
      "make -C /lib/modules/6.1.29/build M=/home/clymber/Studio/kerdevel/export_symbol clean\n",
      "make[1]: Entering directory '/home/clymber/Studio/linux-6.1.29'\n",
      "make[1]: Leaving directory '/home/clymber/Studio/linux-6.1.29'\n"
     ]
    }
   ],
   "source": [
    "if lsmod | grep -q 'hello_feature'; then\n",
    "    sudo rmmod hello_feature\n",
    "fi\n",
    "\n",
    "if lsmod | grep -q 'hello_api'; then\n",
    "    sudo rmmod hello_api\n",
    "fi\n",
    "\n",
    "make clean"
   ]
  }
 ],
 "metadata": {
  "kernelspec": {
   "display_name": "Bash",
   "language": "bash",
   "name": "bash"
  },
  "language_info": {
   "codemirror_mode": "shell",
   "file_extension": ".sh",
   "mimetype": "text/x-sh",
   "name": "bash"
  }
 },
 "nbformat": 4,
 "nbformat_minor": 5
}
