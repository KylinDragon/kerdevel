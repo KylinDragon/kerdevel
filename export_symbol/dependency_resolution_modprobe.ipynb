{
 "cells": [
  {
   "cell_type": "markdown",
   "id": "7eb04456-ac68-4c5c-9133-594d49ce8389",
   "metadata": {},
   "source": [
    "# Module Dependency Resolution and Modprobe"
   ]
  },
  {
   "cell_type": "markdown",
   "id": "3654a467-2e10-4243-91ef-260e1f89a088",
   "metadata": {
    "tags": []
   },
   "source": [
    "Let's reuse the [Exporting & Invoking Linux Kernel Symbols](export_kernel_symbols.ipynb) to make two kernel modules that one depend on another: the `hello_feature.ko` will call a function `api_test()` that's define within module `hello_api.ko`."
   ]
  },
  {
   "cell_type": "code",
   "execution_count": 1,
   "id": "e4dd9478-0ccb-4b33-b754-be42c4e5453f",
   "metadata": {
    "tags": []
   },
   "outputs": [
    {
     "name": "stdout",
     "output_type": "stream",
     "text": [
      "make -C /lib/modules/6.1.29/build M=/home/clymber/Studio/kerdevel/export_symbol modules\n",
      "make[1]: Entering directory '/home/clymber/Studio/linux-6.1.29'\n",
      "make[1]: Leaving directory '/home/clymber/Studio/linux-6.1.29'\n"
     ]
    }
   ],
   "source": [
    "! make"
   ]
  },
  {
   "cell_type": "markdown",
   "id": "b282138b-fe6b-47fc-9e62-637a84b8961a",
   "metadata": {},
   "source": [
    "## 1. The command `insmod` and `rmmod`\n",
    "\n",
    "Since `hello_feature.ko` depends on module `hello_api.ko`, so if we install `hello_api.ko` before we install `hello_feature.ko`, everything will go on very well:"
   ]
  },
  {
   "cell_type": "code",
   "execution_count": 2,
   "id": "50879b4f-5571-4400-abc9-a34d60dc2cdd",
   "metadata": {
    "tags": []
   },
   "outputs": [
    {
     "name": "stdout",
     "output_type": "stream",
     "text": [
      "\u001b[32m[ 4715.437537] \u001b[0m[hello_api] Hello, World!\n",
      "\u001b[32m[ 4715.443888] \u001b[0m[hello_feature] Hello, World!\n",
      "\u001b[32m[ 4715.443890] \u001b[0m[hello_api] this is a test message.\n",
      "\u001b[32m[ 4715.553594] \u001b[0m[hello_feature] Bye Bye, World!\n",
      "\u001b[32m[ 4715.598908] \u001b[0m[hello_api] Bye bye, World!\n"
     ]
    }
   ],
   "source": [
    "! sudo dmesg -C\n",
    "! sudo insmod hello_api.ko && sudo insmod hello_feature.ko\n",
    "! sudo rmmod hello_feature && sudo rmmod hello_api\n",
    "! sudo dmesg -c"
   ]
  },
  {
   "cell_type": "markdown",
   "id": "035d6498-42b7-4433-be35-00529a3f5183",
   "metadata": {},
   "source": [
    "But if module `hello_feature.ko` depends on lots of other modules, and even worse if the other modules depend on each other, things will be getting complicated. What if we just install the module `hello_feature.ko` and left the other alone?"
   ]
  },
  {
   "cell_type": "code",
   "execution_count": 3,
   "id": "770af7a3-5651-4571-a32f-c258020294c3",
   "metadata": {
    "tags": []
   },
   "outputs": [
    {
     "name": "stdout",
     "output_type": "stream",
     "text": [
      "insmod: ERROR: could not insert module hello_feature.ko: Unknown symbol in module\n",
      "\u001b[32m[ 4715.854285] \u001b[0m\u001b[33mhello_feature\u001b[0m\u001b[1m: Unknown symbol api_test (err -2)\u001b[0m\n"
     ]
    }
   ],
   "source": [
    "! sudo insmod hello_feature.ko; sudo dmesg -c"
   ]
  },
  {
   "cell_type": "markdown",
   "id": "349ed836-6293-4238-bcff-1fd0a2cd599e",
   "metadata": {},
   "source": [
    "The command `insmod` simply asked the kernel to load the module we specify. The `insmod` program does not perform any dependency resolution or advanced error checking."
   ]
  },
  {
   "cell_type": "code",
   "execution_count": 4,
   "id": "1c0376f2-e988-44f7-bded-be0d53b48274",
   "metadata": {
    "tags": []
   },
   "outputs": [
    {
     "name": "stdout",
     "output_type": "stream",
     "text": [
      "hello_api\n"
     ]
    }
   ],
   "source": [
    "! modinfo --field depends hello_feature.ko"
   ]
  },
  {
   "cell_type": "markdown",
   "id": "3e6075bc-7f8c-4853-ba9d-2af50286d718",
   "metadata": {},
   "source": [
    "The command output above shows that *hello_feature.ko* depends on another module named *hello_api*."
   ]
  },
  {
   "cell_type": "markdown",
   "id": "df7d676d-1b1d-4211-b0c9-30bf7345957d",
   "metadata": {},
   "source": [
    "## 2. The command `modprobe`\n",
    "\n",
    "The utility `modprobe` provides dependency resolution, error checking and reporting, configurable behavior, and more advanced features. Its general forms of usage:\n",
    "```sh\n",
    "sudo modprobe <options> <module name>\n",
    "# or\n",
    "sudo modprobe <options> -a <first module name> <second module name>\n",
    "```\n",
    "For more information, see [The Modprobe Command In Linux](https://phoenixnap.com/kb/modprobe-command).\n",
    "\n",
    "So, let's have a try:"
   ]
  },
  {
   "cell_type": "code",
   "execution_count": 5,
   "id": "8fab0ca8-8064-417f-88b6-4d1b935d327e",
   "metadata": {
    "tags": []
   },
   "outputs": [
    {
     "name": "stdout",
     "output_type": "stream",
     "text": [
      "modprobe: FATAL: Module hello_feature.ko not found in directory /lib/modules/6.1.29\n"
     ]
    }
   ],
   "source": [
    "! sudo modprobe hello_feature.ko; sudo dmesg -c"
   ]
  },
  {
   "cell_type": "markdown",
   "id": "0fa92987-9d47-4634-b596-c4da7e91d421",
   "metadata": {},
   "source": [
    "Oops! It didn't work as expected. The `/lib/modules/<kernel release>` indicates a directory where the system kernel modules reside."
   ]
  },
  {
   "cell_type": "code",
   "execution_count": 6,
   "id": "81ba4af9-d3e1-4647-9c57-0799458bbf08",
   "metadata": {
    "tags": []
   },
   "outputs": [
    {
     "name": "stdout",
     "output_type": "stream",
     "text": [
      "openat(AT_FDCWD, \"/lib/modules/6.1.29/modules.softdep\", O_RDONLY|O_CLOEXEC) = 3\n",
      "openat(AT_FDCWD, \"/lib/modules/6.1.29/modules.dep.bin\", O_RDONLY|O_CLOEXEC) = 3\n",
      "openat(AT_FDCWD, \"/lib/modules/6.1.29/modules.alias.bin\", O_RDONLY|O_CLOEXEC) = 3\n",
      "openat(AT_FDCWD, \"/lib/modules/6.1.29/modules.symbols.bin\", O_RDONLY|O_CLOEXEC) = 3\n",
      "openat(AT_FDCWD, \"/lib/modules/6.1.29/modules.builtin.alias.bin\", O_RDONLY|O_CLOEXEC) = 3\n",
      "openat(AT_FDCWD, \"/lib/modules/6.1.29/modules.builtin.bin\", O_RDONLY|O_CLOEXEC) = 3\n",
      "write(2, \"modprobe: FATAL: Module hello_fe\"..., 84modprobe: FATAL: Module hello_feature.ko not found in directory /lib/modules/6.1.29\n"
     ]
    }
   ],
   "source": [
    "! strace modprobe hello_feature.ko 2>&1 | grep \"/lib/modules/$(uname -r)\""
   ]
  },
  {
   "cell_type": "markdown",
   "id": "2308f136-11ff-4bd0-81c2-8c782adc78a9",
   "metadata": {},
   "source": [
    "The `strace` utility shows that it highly depends on the module installing directory of current version kernel.  \n",
    "\n",
    "## 3. Generating Dependency\n",
    "\n",
    "Why was that? The answer was given in the book _Linux Kernel Development_:  \n",
    "> \"The dependency information must be generated. Linux distributions generate the mapping automatically and keep it up to date on each boot.To build the module dependency information, as root simply run `depmod`.  \n",
    "> To perform a quick update, rebuilding only the information for modules newer than the dependency information, run as root `depmod -A`. The module dependency information is stored in the file `/lib/modules/version/modules.dep`.\"\n",
    "\n",
    "What we need to do is to install the modules into `/lib/modules/<kernel release>` and to update the dependency information."
   ]
  },
  {
   "cell_type": "code",
   "execution_count": 7,
   "id": "8fe8def2-9e2b-4ecb-be3c-8d59b61ba175",
   "metadata": {
    "tags": []
   },
   "outputs": [
    {
     "name": "stdout",
     "output_type": "stream",
     "text": [
      "\u001b[32m[ 4717.378259] \u001b[0m[hello_api] Hello, World!\n",
      "\u001b[32m[ 4717.378438] \u001b[0m[hello_feature] Hello, World!\n"
     ]
    }
   ],
   "source": [
    "! sudo cp {hello_api,hello_feature}.ko /lib/modules/$(uname -r)/\n",
    "! sudo sudo depmod -a\n",
    "! sudo modprobe hello_feature; sudo dmesg -c"
   ]
  },
  {
   "cell_type": "code",
   "execution_count": 8,
   "id": "7c091e51-9e5c-412e-9d3c-401c5303ce32",
   "metadata": {
    "tags": []
   },
   "outputs": [
    {
     "name": "stdout",
     "output_type": "stream",
     "text": [
      "\u001b[32m[ 4717.378438] \u001b[0m[hello_api] this is a test message.\n",
      "\u001b[32m[ 4717.501102] \u001b[0m[hello_feature] Bye Bye, World!\n",
      "\u001b[32m[ 4717.533367] \u001b[0m[hello_api] Bye bye, World!\n"
     ]
    }
   ],
   "source": [
    "! sudo modprobe -r hello_feature; sudo dmesg -c"
   ]
  },
  {
   "cell_type": "markdown",
   "id": "4af19fa9-3647-4bfc-8d3f-bb7ab1bc7281",
   "metadata": {},
   "source": [
    "It worked! Actually, we can use the build system of Linux kernel source tree to simplify the toiling work:"
   ]
  },
  {
   "cell_type": "code",
   "execution_count": 9,
   "id": "f3edf208-045b-4c4f-91b4-a44cea5f2e6a",
   "metadata": {
    "tags": []
   },
   "outputs": [
    {
     "name": "stdout",
     "output_type": "stream",
     "text": [
      "make -C /lib/modules/6.1.29/build M=/home/clymber/Studio/kerdevel/export_symbol modules_install\n",
      "make[1]: Entering directory '/home/clymber/Studio/linux-6.1.29'\n",
      "  INSTALL /lib/modules/6.1.29/extra/hello_api.ko\n",
      "  SIGN    /lib/modules/6.1.29/extra/hello_api.ko\n",
      "  INSTALL /lib/modules/6.1.29/extra/hello_feature.ko\n",
      "  SIGN    /lib/modules/6.1.29/extra/hello_feature.ko\n",
      "  DEPMOD  /lib/modules/6.1.29\n",
      "make[1]: Leaving directory '/home/clymber/Studio/linux-6.1.29'\n"
     ]
    }
   ],
   "source": [
    "! sudo make modules_install"
   ]
  },
  {
   "cell_type": "code",
   "execution_count": 10,
   "id": "97c160f1-9c8a-4688-9a2a-26991a1c95ca",
   "metadata": {
    "tags": []
   },
   "outputs": [
    {
     "name": "stdout",
     "output_type": "stream",
     "text": [
      "\u001b[32m[ 4718.698889] \u001b[0m[hello_api] Hello, World!\n",
      "\u001b[32m[ 4718.699639] \u001b[0m[hello_feature] Hello, World!\n",
      "\u001b[32m[ 4718.699641] \u001b[0m[hello_api] this is a test message.\n",
      "\u001b[32m[ 4718.818173] \u001b[0m[hello_feature] Bye Bye, World!\n",
      "\u001b[32m[ 4718.845432] \u001b[0m[hello_api] Bye bye, World!\n"
     ]
    }
   ],
   "source": [
    "! sudo modprobe hello_feature; sudo dmesg -c\n",
    "! sudo modprobe -r hello_feature; sudo dmesg -c"
   ]
  },
  {
   "cell_type": "markdown",
   "id": "137902d4-a43b-4883-81db-1bcaa404f94c",
   "metadata": {},
   "source": [
    "## 4. Cleaning up"
   ]
  },
  {
   "cell_type": "code",
   "execution_count": 11,
   "id": "c27a91b9-f9b0-4f10-9800-1faffada6ec5",
   "metadata": {
    "tags": []
   },
   "outputs": [
    {
     "name": "stdout",
     "output_type": "stream",
     "text": [
      "make -C /lib/modules/6.1.29/build M=/home/clymber/Studio/kerdevel/export_symbol clean\n",
      "make[1]: Entering directory '/home/clymber/Studio/linux-6.1.29'\n",
      "  CLEAN   /home/clymber/Studio/kerdevel/export_symbol/Module.symvers\n",
      "make[1]: Leaving directory '/home/clymber/Studio/linux-6.1.29'\n"
     ]
    }
   ],
   "source": [
    "! sudo rm /lib/modules/$(uname -r)/extra/hello_{feature,api}.ko\n",
    "! sudo depmod -a\n",
    "! make clean"
   ]
  }
 ],
 "metadata": {
  "kernelspec": {
   "display_name": "Python 3 (ipykernel)",
   "language": "python",
   "name": "python3"
  },
  "language_info": {
   "codemirror_mode": {
    "name": "ipython",
    "version": 3
   },
   "file_extension": ".py",
   "mimetype": "text/x-python",
   "name": "python",
   "nbconvert_exporter": "python",
   "pygments_lexer": "ipython3",
   "version": "3.10.6"
  }
 },
 "nbformat": 4,
 "nbformat_minor": 5
}
