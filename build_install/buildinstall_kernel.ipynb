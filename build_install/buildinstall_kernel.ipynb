{
 "cells": [
  {
   "cell_type": "markdown",
   "id": "17aa65c8-a908-4c43-a796-c41edf3cacb9",
   "metadata": {},
   "source": [
    "## 0. System Information Beforehand"
   ]
  },
  {
   "cell_type": "code",
   "execution_count": 1,
   "id": "fae1037a-52dc-4b3c-9655-ae768a2a7097",
   "metadata": {
    "tags": []
   },
   "outputs": [
    {
     "name": "stdout",
     "output_type": "stream",
     "text": [
      "6.1.28\n",
      "LSB Version:\tcore-11.1.0ubuntu4-noarch:security-11.1.0ubuntu4-noarch\n",
      "Distributor ID:\tUbuntu\n",
      "Description:\tUbuntu 22.04.2 LTS\n",
      "Release:\t22.04\n",
      "Codename:\tjammy\n"
     ]
    }
   ],
   "source": [
    "uname -r\n",
    "lsb_release -a"
   ]
  },
  {
   "cell_type": "markdown",
   "id": "6837ef90-96a6-4947-9466-3d4a198e1abf",
   "metadata": {},
   "source": [
    "Install additional packages before building a kernel:"
   ]
  },
  {
   "cell_type": "code",
   "execution_count": null,
   "id": "1f05b415-51c4-45cb-8c23-b537aaf13128",
   "metadata": {
    "scrolled": true,
    "tags": []
   },
   "outputs": [],
   "source": [
    "sudo apt-get install -y --no-install-recommends fakeroot \\\n",
    "                                                build-essential \\\n",
    "                                                ncurses-dev \\\n",
    "                                                xz-utils \\\n",
    "                                                libssl-dev \\\n",
    "                                                bc \\\n",
    "                                                flex \\\n",
    "                                                libelf-dev \\\n",
    "                                                bison"
   ]
  },
  {
   "cell_type": "markdown",
   "id": "676ab100-0633-4683-9ebe-3aa3c17f0a7e",
   "metadata": {},
   "source": [
    "## 1. Get Linux Kernel Source Tree"
   ]
  },
  {
   "cell_type": "markdown",
   "id": "b5908f08-93c0-4ce8-b9b8-2ac3b620cf26",
   "metadata": {},
   "source": [
    "Download package from the linux kernel archives website:"
   ]
  },
  {
   "cell_type": "code",
   "execution_count": 2,
   "id": "03bb8916-f359-4c57-99d9-22c00080bc40",
   "metadata": {
    "tags": []
   },
   "outputs": [
    {
     "name": "stdout",
     "output_type": "stream",
     "text": [
      "  % Total    % Received % Xferd  Average Speed   Time    Time     Time  Current\n",
      "                                 Dload  Upload   Total   Spent    Left  Speed\n",
      "100  128M  100  128M    0     0  4955k      0  0:00:26  0:00:26 --:--:-- 5656k\n"
     ]
    }
   ],
   "source": [
    "curl -o /tmp/linux-6.1.29.tar.xz https://cdn.kernel.org/pub/linux/kernel/v6.x/linux-6.1.29.tar.xz"
   ]
  },
  {
   "cell_type": "markdown",
   "id": "243cf09c-801c-4357-b402-340e4de28f94",
   "metadata": {},
   "source": [
    "Extract source files:"
   ]
  },
  {
   "cell_type": "code",
   "execution_count": 3,
   "id": "63557401-b4bf-48cf-b230-5f6e2754e95d",
   "metadata": {
    "tags": []
   },
   "outputs": [],
   "source": [
    "tar -xf /tmp/linux-6.1.29.tar.xz -C $HOME/Studio/"
   ]
  },
  {
   "cell_type": "markdown",
   "id": "47b4dae9-b4c1-48cc-81ec-a0e62079bb15",
   "metadata": {},
   "source": [
    "Backup source tree(optional, btrfs only):"
   ]
  },
  {
   "cell_type": "code",
   "execution_count": 4,
   "id": "d2df707f-c1e2-4817-a5fe-2ebafac33d91",
   "metadata": {
    "tags": []
   },
   "outputs": [
    {
     "name": "stdout",
     "output_type": "stream",
     "text": [
      "Create a snapshot of '/home/clymber/Studio/linux-6.1.29' in '/home/clymber/GitHub/@linux-6.1.29'\n"
     ]
    }
   ],
   "source": [
    "btrfs subvolume snapshot $HOME/Studio/linux-6.1.29 $HOME/GitHub/@linux-6.1.29"
   ]
  },
  {
   "cell_type": "markdown",
   "id": "f5d2c518-d738-45ac-9505-8176d2d33734",
   "metadata": {},
   "source": [
    "After making changes to your configuration file, or when using an existing configuration file on a new kernel tree, you can validate and update the configuration: `$ make oldconfig`. You should always run this before building a kernel."
   ]
  },
  {
   "cell_type": "code",
   "execution_count": null,
   "id": "131ff363-b7ab-4168-bb55-cdc7b510c27b",
   "metadata": {
    "tags": []
   },
   "outputs": [],
   "source": [
    "# execute it in the system terminal\n",
    "make oldconfig"
   ]
  },
  {
   "cell_type": "markdown",
   "id": "8fe1fa05-bd53-4bd5-bd96-7a838d596ac2",
   "metadata": {},
   "source": [
    "## 2. Configure Kernel"
   ]
  },
  {
   "cell_type": "code",
   "execution_count": 9,
   "id": "ca27f647-f227-4b97-8e1a-d2bfe6f67e36",
   "metadata": {
    "tags": []
   },
   "outputs": [
    {
     "name": "stdout",
     "output_type": "stream",
     "text": [
      "/home/clymber/Studio/linux-6.1.29\n"
     ]
    }
   ],
   "source": [
    "cd /home/clymber/Studio/linux-6.1.29"
   ]
  },
  {
   "cell_type": "markdown",
   "id": "8638ccea-fbf8-454d-8a83-884075c4f78e",
   "metadata": {},
   "source": [
    "For this time, we're going to copy the existed configuration file from current system to simplify the work. The current system kernel configuration  usually locates at `/boot//boot/config-<kernel-release>`."
   ]
  },
  {
   "cell_type": "code",
   "execution_count": 11,
   "id": "9cb89cae-22b5-4414-8891-1e244d71ac76",
   "metadata": {
    "tags": []
   },
   "outputs": [
    {
     "name": "stdout",
     "output_type": "stream",
     "text": [
      "'/boot/config-6.1.28' -> '.config'\n"
     ]
    }
   ],
   "source": [
    "cp -v /boot/config-$(uname -r) .config"
   ]
  },
  {
   "cell_type": "markdown",
   "id": "e7701d93-d951-46f0-b56a-5381566b3f89",
   "metadata": {},
   "source": [
    "We can use the `scripts/config` within the source tree to check/change options for compiling the kernel."
   ]
  },
  {
   "cell_type": "code",
   "execution_count": 13,
   "id": "c904e5d4-9c5d-4b3f-b5cc-e2b8354974f2",
   "metadata": {
    "tags": []
   },
   "outputs": [
    {
     "name": "stdout",
     "output_type": "stream",
     "text": [
      "CONFIG_BPF=y\n",
      "CONFIG_HAVE_EBPF_JIT=y\n",
      "CONFIG_BPF_SYSCALL=y\n",
      "CONFIG_BPF_JIT=y\n",
      "CONFIG_IKHEADERS=m\n",
      "CONFIG_NET_CLS_BPF=m\n",
      "CONFIG_NET_ACT_BPF=m\n",
      "CONFIG_BPF_EVENTS=y\n",
      "CONFIG_TRUSTED_KEYS=y\n",
      "CONFIG_REVOCATION_KEYS=undef\n"
     ]
    }
   ],
   "source": [
    "opts=\"BPF HAVE_EBPF_JIT BPF_SYSCALL BPF_JIT IKHEADERS NET_CLS_BPF NET_ACT_BPF \\\n",
    "      BPF_EVENTS TRUSTED_KEYS REVOCATION_KEYS\"\n",
    "for opt in $opts; do\n",
    "    echo \"CONFIG_${opt}=\"$(scripts/config --state \"CONFIG_${opt}\")\n",
    "done"
   ]
  },
  {
   "cell_type": "code",
   "execution_count": 18,
   "id": "39763040-3176-4561-9ac4-b79a94ed2676",
   "metadata": {
    "tags": []
   },
   "outputs": [],
   "source": [
    "scripts/config --enable \"CONFIG_IKHEADERS\""
   ]
  },
  {
   "cell_type": "markdown",
   "id": "8dcf4170-9566-496f-8c3a-52964a285d04",
   "metadata": {},
   "source": [
    "If you are compiling the kernel on Ubuntu, you may receive the following error that interrupts the building process: `No rule to make target 'debian/canonical-certs.pem`, disable the conflicting security certificates by executing the two commands below:"
   ]
  },
  {
   "cell_type": "code",
   "execution_count": 15,
   "id": "c6e42f55-e1d7-45d1-93b2-6531d2270328",
   "metadata": {
    "tags": []
   },
   "outputs": [],
   "source": [
    "scripts/config --disable \"CONFIG_TRUSTED_KEYS\"\n",
    "scripts/config --disable \"CONFIG_REVOCATION_KEYS\""
   ]
  },
  {
   "cell_type": "markdown",
   "id": "c7e13c1b-3dbc-441f-9fa0-fca8beddaf57",
   "metadata": {},
   "source": [
    "## 3. Compling"
   ]
  },
  {
   "cell_type": "markdown",
   "id": "39da0430-265b-4f91-af5e-f5046cbf0bc1",
   "metadata": {},
   "source": [
    "please DO NOT execute the following command in jupyter notebook if not necessary, because it will consume large amount of memory and slow down the system. Do it with the system shell terminal to have better performance."
   ]
  },
  {
   "cell_type": "code",
   "execution_count": null,
   "id": "8ed4aba4-4c29-4a7c-85ec-06cc95151b75",
   "metadata": {},
   "outputs": [],
   "source": [
    "make -j8"
   ]
  },
  {
   "cell_type": "markdown",
   "id": "26ff9a97-747d-4853-b1bc-80ad2ffacc9f",
   "metadata": {},
   "source": [
    "## 4. Install the required modules"
   ]
  },
  {
   "cell_type": "code",
   "execution_count": 4,
   "id": "2b858286-2fba-4da6-a361-589101398a84",
   "metadata": {
    "scrolled": true,
    "tags": []
   },
   "outputs": [
    {
     "name": "stdout",
     "output_type": "stream",
     "text": [
      "  INSTALL /lib/modules/6.1.29/kernel/sound/soc/intel/boards/snd-soc-sst-byt-cht-es8316.ko\n",
      "  SIGN    /lib/modules/6.1.29/kernel/sound/soc/intel/boards/snd-soc-sst-byt-cht-da7213.ko\n",
      "  SIGN    /lib/modules/6.1.29/kernel/sound/soc/intel/boards/snd-soc-sst-bxt-rt298.ko\n",
      "  SIGN    /lib/modules/6.1.29/kernel/sound/soc/intel/boards/snd-soc-sst-byt-cht-cx2072x.ko\n",
      "  INSTALL /lib/modules/6.1.29/kernel/sound/soc/intel/boards/snd-soc-sst-bytcr-rt5640.ko\n",
      "  INSTALL /lib/modules/6.1.29/kernel/sound/soc/intel/boards/snd-soc-sst-bytcr-rt5651.ko\n",
      "  SIGN    /lib/modules/6.1.29/kernel/sound/soc/intel/boards/snd-soc-sst-byt-cht-es8316.ko\n",
      "  INSTALL /lib/modules/6.1.29/kernel/sound/soc/intel/boards/snd-soc-sst-bytcr-wm5102.ko\n",
      "  INSTALL /lib/modules/6.1.29/kernel/sound/soc/intel/boards/snd-soc-sst-cht-bsw-max98090_ti.ko\n",
      "  INSTALL /lib/modules/6.1.29/kernel/sound/soc/intel/boards/snd-soc-sst-cht-bsw-nau8824.ko\n",
      "  INSTALL /lib/modules/6.1.29/kernel/sound/soc/intel/boards/snd-soc-sst-cht-bsw-rt5645.ko\n",
      "  SIGN    /lib/modules/6.1.29/kernel/sound/soc/intel/boards/snd-soc-sst-bytcr-rt5640.ko\n",
      "  SIGN    /lib/modules/6.1.29/kernel/sound/soc/intel/boards/snd-soc-sst-bytcr-rt5651.ko\n",
      "  SIGN    /lib/modules/6.1.29/kernel/sound/soc/intel/boards/snd-soc-sst-bytcr-wm5102.ko\n",
      "  SIGN    /lib/modules/6.1.29/kernel/sound/soc/intel/boards/snd-soc-sst-cht-bsw-max98090_ti.ko\n",
      "  INSTALL /lib/modules/6.1.29/kernel/sound/soc/intel/boards/snd-soc-sst-cht-bsw-rt5672.ko\n",
      "  SIGN    /lib/modules/6.1.29/kernel/sound/soc/intel/boards/snd-soc-sst-cht-bsw-nau8824.ko\n",
      "  SIGN    /lib/modules/6.1.29/kernel/sound/soc/intel/boards/snd-soc-sst-cht-bsw-rt5645.ko\n",
      "  SIGN    /lib/modules/6.1.29/kernel/sound/soc/intel/boards/snd-soc-sst-cht-bsw-rt5672.ko\n",
      "  INSTALL /lib/modules/6.1.29/kernel/sound/soc/intel/boards/snd-soc-sst-glk-rt5682_max98357a.ko\n",
      "  INSTALL /lib/modules/6.1.29/kernel/sound/soc/intel/boards/snd-soc-sst-sof-pcm512x.ko\n",
      "  INSTALL /lib/modules/6.1.29/kernel/sound/soc/intel/boards/snd-soc-sst-sof-wm8804.ko\n",
      "  SIGN    /lib/modules/6.1.29/kernel/sound/soc/intel/boards/snd-soc-sst-glk-rt5682_max98357a.ko\n",
      "  INSTALL /lib/modules/6.1.29/kernel/sound/soc/intel/catpt/snd-soc-catpt.ko\n",
      "  SIGN    /lib/modules/6.1.29/kernel/sound/soc/intel/boards/snd-soc-sst-sof-wm8804.ko\n",
      "  SIGN    /lib/modules/6.1.29/kernel/sound/soc/intel/boards/snd-soc-sst-sof-pcm512x.ko\n",
      "  INSTALL /lib/modules/6.1.29/kernel/sound/soc/intel/common/snd-soc-acpi-intel-match.ko\n",
      "  INSTALL /lib/modules/6.1.29/kernel/sound/soc/intel/common/snd-soc-sst-dsp.ko\n",
      "  SIGN    /lib/modules/6.1.29/kernel/sound/soc/intel/catpt/snd-soc-catpt.ko\n",
      "  INSTALL /lib/modules/6.1.29/kernel/sound/soc/intel/common/snd-soc-sst-ipc.ko\n",
      "  SIGN    /lib/modules/6.1.29/kernel/sound/soc/intel/common/snd-soc-sst-dsp.ko\n",
      "  SIGN    /lib/modules/6.1.29/kernel/sound/soc/intel/common/snd-soc-sst-ipc.ko\n",
      "  INSTALL /lib/modules/6.1.29/kernel/sound/soc/intel/skylake/snd-soc-skl-ssp-clk.ko\n",
      "  INSTALL /lib/modules/6.1.29/kernel/sound/soc/intel/skylake/snd-soc-skl.ko\n",
      "  SIGN    /lib/modules/6.1.29/kernel/sound/soc/intel/common/snd-soc-acpi-intel-match.ko\n",
      "  SIGN    /lib/modules/6.1.29/kernel/sound/soc/intel/skylake/snd-soc-skl-ssp-clk.ko\n",
      "  INSTALL /lib/modules/6.1.29/kernel/sound/soc/snd-soc-acpi.ko\n",
      "  INSTALL /lib/modules/6.1.29/kernel/sound/soc/snd-soc-core.ko\n",
      "  SIGN    /lib/modules/6.1.29/kernel/sound/soc/intel/skylake/snd-soc-skl.ko\n",
      "  INSTALL /lib/modules/6.1.29/kernel/sound/soc/sof/amd/snd-sof-amd-acp.ko\n",
      "  INSTALL /lib/modules/6.1.29/kernel/sound/soc/sof/amd/snd-sof-amd-renoir.ko\n",
      "  SIGN    /lib/modules/6.1.29/kernel/sound/soc/snd-soc-acpi.ko\n",
      "  INSTALL /lib/modules/6.1.29/kernel/sound/soc/sof/intel/snd-sof-acpi-intel-bdw.ko\n",
      "  SIGN    /lib/modules/6.1.29/kernel/sound/soc/snd-soc-core.ko\n",
      "  SIGN    /lib/modules/6.1.29/kernel/sound/soc/sof/intel/snd-sof-acpi-intel-bdw.ko\n",
      "  SIGN    /lib/modules/6.1.29/kernel/sound/soc/sof/amd/snd-sof-amd-acp.ko\n",
      "  INSTALL /lib/modules/6.1.29/kernel/sound/soc/sof/intel/snd-sof-acpi-intel-byt.ko\n",
      "  INSTALL /lib/modules/6.1.29/kernel/sound/soc/sof/intel/snd-sof-intel-atom.ko\n",
      "  SIGN    /lib/modules/6.1.29/kernel/sound/soc/sof/amd/snd-sof-amd-renoir.ko\n",
      "  INSTALL /lib/modules/6.1.29/kernel/sound/soc/sof/intel/snd-sof-intel-hda-common.ko\n",
      "  SIGN    /lib/modules/6.1.29/kernel/sound/soc/sof/intel/snd-sof-acpi-intel-byt.ko\n",
      "  SIGN    /lib/modules/6.1.29/kernel/sound/soc/sof/intel/snd-sof-intel-atom.ko\n",
      "  INSTALL /lib/modules/6.1.29/kernel/sound/soc/sof/intel/snd-sof-intel-hda.ko\n",
      "  SIGN    /lib/modules/6.1.29/kernel/sound/soc/sof/intel/snd-sof-intel-hda.ko\n",
      "  INSTALL /lib/modules/6.1.29/kernel/sound/soc/sof/intel/snd-sof-pci-intel-apl.ko\n",
      "  INSTALL /lib/modules/6.1.29/kernel/sound/soc/sof/intel/snd-sof-pci-intel-cnl.ko\n",
      "  SIGN    /lib/modules/6.1.29/kernel/sound/soc/sof/intel/snd-sof-pci-intel-apl.ko\n",
      "  SIGN    /lib/modules/6.1.29/kernel/sound/soc/sof/intel/snd-sof-intel-hda-common.ko\n",
      "  INSTALL /lib/modules/6.1.29/kernel/sound/soc/sof/intel/snd-sof-pci-intel-icl.ko\n",
      "  INSTALL /lib/modules/6.1.29/kernel/sound/soc/sof/intel/snd-sof-pci-intel-mtl.ko\n",
      "  SIGN    /lib/modules/6.1.29/kernel/sound/soc/sof/intel/snd-sof-pci-intel-cnl.ko\n",
      "  INSTALL /lib/modules/6.1.29/kernel/sound/soc/sof/intel/snd-sof-pci-intel-skl.ko\n",
      "  SIGN    /lib/modules/6.1.29/kernel/sound/soc/sof/intel/snd-sof-pci-intel-icl.ko\n",
      "  SIGN    /lib/modules/6.1.29/kernel/sound/soc/sof/intel/snd-sof-pci-intel-mtl.ko\n",
      "  SIGN    /lib/modules/6.1.29/kernel/sound/soc/sof/intel/snd-sof-pci-intel-skl.ko\n",
      "  INSTALL /lib/modules/6.1.29/kernel/sound/soc/sof/intel/snd-sof-pci-intel-tgl.ko\n",
      "  INSTALL /lib/modules/6.1.29/kernel/sound/soc/sof/intel/snd-sof-pci-intel-tng.ko\n",
      "  INSTALL /lib/modules/6.1.29/kernel/sound/soc/sof/snd-sof-acpi.ko\n",
      "  SIGN    /lib/modules/6.1.29/kernel/sound/soc/sof/intel/snd-sof-pci-intel-tgl.ko\n",
      "  SIGN    /lib/modules/6.1.29/kernel/sound/soc/sof/intel/snd-sof-pci-intel-tng.ko\n",
      "  INSTALL /lib/modules/6.1.29/kernel/sound/soc/sof/snd-sof-pci.ko\n",
      "  SIGN    /lib/modules/6.1.29/kernel/sound/soc/sof/snd-sof-pci.ko\n",
      "  INSTALL /lib/modules/6.1.29/kernel/sound/soc/sof/snd-sof-probes.ko\n",
      "  SIGN    /lib/modules/6.1.29/kernel/sound/soc/sof/snd-sof-probes.ko\n",
      "  INSTALL /lib/modules/6.1.29/kernel/sound/soc/sof/snd-sof-utils.ko\n",
      "  INSTALL /lib/modules/6.1.29/kernel/sound/soc/sof/snd-sof.ko\n",
      "  SIGN    /lib/modules/6.1.29/kernel/sound/soc/sof/snd-sof-acpi.ko\n",
      "  SIGN    /lib/modules/6.1.29/kernel/sound/soc/sof/snd-sof-utils.ko\n",
      "  INSTALL /lib/modules/6.1.29/kernel/sound/soc/sof/xtensa/snd-sof-xtensa-dsp.ko\n",
      "  INSTALL /lib/modules/6.1.29/kernel/sound/soc/xilinx/snd-soc-xlnx-formatter-pcm.ko\n",
      "  INSTALL /lib/modules/6.1.29/kernel/sound/soc/xilinx/snd-soc-xlnx-i2s.ko\n",
      "  SIGN    /lib/modules/6.1.29/kernel/sound/soc/sof/snd-sof.ko\n",
      "  SIGN    /lib/modules/6.1.29/kernel/sound/soc/sof/xtensa/snd-sof-xtensa-dsp.ko\n",
      "  INSTALL /lib/modules/6.1.29/kernel/sound/soc/xilinx/snd-soc-xlnx-spdif.ko\n",
      "  SIGN    /lib/modules/6.1.29/kernel/sound/soc/xilinx/snd-soc-xlnx-formatter-pcm.ko\n",
      "  SIGN    /lib/modules/6.1.29/kernel/sound/soc/xilinx/snd-soc-xlnx-i2s.ko\n",
      "  INSTALL /lib/modules/6.1.29/kernel/sound/soc/xtensa/snd-soc-xtfpga-i2s.ko\n",
      "  SIGN    /lib/modules/6.1.29/kernel/sound/soc/xilinx/snd-soc-xlnx-spdif.ko\n",
      "  INSTALL /lib/modules/6.1.29/kernel/sound/soundcore.ko\n",
      "  SIGN    /lib/modules/6.1.29/kernel/sound/soc/xtensa/snd-soc-xtfpga-i2s.ko\n",
      "  SIGN    /lib/modules/6.1.29/kernel/sound/soundcore.ko\n",
      "  INSTALL /lib/modules/6.1.29/kernel/sound/synth/emux/snd-emux-synth.ko\n",
      "  INSTALL /lib/modules/6.1.29/kernel/sound/synth/snd-util-mem.ko\n",
      "  INSTALL /lib/modules/6.1.29/kernel/sound/usb/6fire/snd-usb-6fire.ko\n",
      "  SIGN    /lib/modules/6.1.29/kernel/sound/synth/emux/snd-emux-synth.ko\n",
      "  INSTALL /lib/modules/6.1.29/kernel/sound/usb/bcd2000/snd-bcd2000.ko\n",
      "  SIGN    /lib/modules/6.1.29/kernel/sound/synth/snd-util-mem.ko\n",
      "  INSTALL /lib/modules/6.1.29/kernel/sound/usb/caiaq/snd-usb-caiaq.ko\n",
      "  SIGN    /lib/modules/6.1.29/kernel/sound/usb/6fire/snd-usb-6fire.ko\n",
      "  SIGN    /lib/modules/6.1.29/kernel/sound/usb/bcd2000/snd-bcd2000.ko\n",
      "  INSTALL /lib/modules/6.1.29/kernel/sound/usb/hiface/snd-usb-hiface.ko\n",
      "  INSTALL /lib/modules/6.1.29/kernel/sound/usb/line6/snd-usb-line6.ko\n",
      "  SIGN    /lib/modules/6.1.29/kernel/sound/usb/caiaq/snd-usb-caiaq.ko\n",
      "  SIGN    /lib/modules/6.1.29/kernel/sound/usb/hiface/snd-usb-hiface.ko\n",
      "  SIGN    /lib/modules/6.1.29/kernel/sound/usb/line6/snd-usb-line6.ko\n",
      "  INSTALL /lib/modules/6.1.29/kernel/sound/usb/line6/snd-usb-pod.ko\n",
      "  INSTALL /lib/modules/6.1.29/kernel/sound/usb/line6/snd-usb-podhd.ko\n",
      "  SIGN    /lib/modules/6.1.29/kernel/sound/usb/line6/snd-usb-podhd.ko\n",
      "  SIGN    /lib/modules/6.1.29/kernel/sound/usb/line6/snd-usb-pod.ko\n",
      "  INSTALL /lib/modules/6.1.29/kernel/sound/usb/line6/snd-usb-toneport.ko\n",
      "  INSTALL /lib/modules/6.1.29/kernel/sound/usb/line6/snd-usb-variax.ko\n",
      "  INSTALL /lib/modules/6.1.29/kernel/sound/usb/misc/snd-ua101.ko\n",
      "  SIGN    /lib/modules/6.1.29/kernel/sound/usb/line6/snd-usb-toneport.ko\n",
      "  INSTALL /lib/modules/6.1.29/kernel/sound/usb/snd-usb-audio.ko\n",
      "  INSTALL /lib/modules/6.1.29/kernel/sound/usb/snd-usbmidi-lib.ko\n",
      "  INSTALL /lib/modules/6.1.29/kernel/sound/usb/usx2y/snd-usb-us122l.ko\n",
      "  SIGN    /lib/modules/6.1.29/kernel/sound/usb/line6/snd-usb-variax.ko\n",
      "  SIGN    /lib/modules/6.1.29/kernel/sound/usb/misc/snd-ua101.ko\n",
      "  SIGN    /lib/modules/6.1.29/kernel/sound/usb/snd-usbmidi-lib.ko\n",
      "  SIGN    /lib/modules/6.1.29/kernel/sound/usb/usx2y/snd-usb-us122l.ko\n",
      "  INSTALL /lib/modules/6.1.29/kernel/sound/usb/usx2y/snd-usb-usx2y.ko\n",
      "  INSTALL /lib/modules/6.1.29/kernel/sound/virtio/virtio_snd.ko\n",
      "  SIGN    /lib/modules/6.1.29/kernel/sound/usb/snd-usb-audio.ko\n",
      "  INSTALL /lib/modules/6.1.29/kernel/sound/x86/snd-hdmi-lpe-audio.ko\n",
      "  SIGN    /lib/modules/6.1.29/kernel/sound/virtio/virtio_snd.ko\n",
      "  INSTALL /lib/modules/6.1.29/kernel/sound/xen/snd_xen_front.ko\n",
      "  SIGN    /lib/modules/6.1.29/kernel/sound/usb/usx2y/snd-usb-usx2y.ko\n",
      "  SIGN    /lib/modules/6.1.29/kernel/sound/x86/snd-hdmi-lpe-audio.ko\n",
      "  SIGN    /lib/modules/6.1.29/kernel/sound/xen/snd_xen_front.ko\n",
      "  DEPMOD  /lib/modules/6.1.29\n"
     ]
    }
   ],
   "source": [
    "sudo make -j8 modules_install"
   ]
  },
  {
   "cell_type": "code",
   "execution_count": 5,
   "id": "34ccdea3-5fd6-448e-86f2-7d0bcac77fb7",
   "metadata": {
    "tags": []
   },
   "outputs": [
    {
     "name": "stdout",
     "output_type": "stream",
     "text": [
      "604M\t/lib/modules/5.19.0-41-generic\n",
      "397M\t/lib/modules/6.1.28\n",
      "5.8G\t/lib/modules/6.1.29\n"
     ]
    }
   ],
   "source": [
    "du -sh /lib/modules/*"
   ]
  },
  {
   "cell_type": "markdown",
   "id": "e8e00246-14d2-452e-a1aa-e95e37275cdb",
   "metadata": {},
   "source": [
    "## 5. Install the kernel"
   ]
  },
  {
   "cell_type": "code",
   "execution_count": 6,
   "id": "08dcf6fb-45a4-440c-be93-61ea8b200640",
   "metadata": {
    "scrolled": true,
    "tags": []
   },
   "outputs": [
    {
     "name": "stdout",
     "output_type": "stream",
     "text": [
      "  INSTALL /boot\n",
      "run-parts: executing /etc/kernel/postinst.d/dkms 6.1.29 /boot/vmlinuz-6.1.29\n",
      " * dkms: running auto installation service for kernel 6.1.29       \u001b[80G \n",
      "Kernel preparation unnecessary for this kernel. Skipping...\n",
      "applying patch 0002-Makefile.patch...patching file Makefile\n",
      "Hunk #1 succeeded at 113 with fuzz 1.\n",
      "Hunk #2 succeeded at 132 with fuzz 2 (offset 1 line).\n",
      "\n",
      "applying patch 0003-Make-up-for-missing-init_MUTEX.patch...patching file src/wl/sys/wl_linux.c\n",
      "Hunk #1 succeeded at 111 with fuzz 2 (offset 12 lines).\n",
      "\n",
      "applying patch 0010-change-the-network-interface-name-from-eth-to-wlan.patch...patching file src/wl/sys/wl_linux.c\n",
      "Hunk #1 succeeded at 221 (offset -14 lines).\n",
      "\n",
      "applying patch 0013-gcc.patch...patching file Makefile\n",
      "\n",
      "applying patch 0019-broadcom-sta-6.30.223.248-3.18-null-pointer-fix.patch...patching file src/wl/sys/wl_linux.c\n",
      "Hunk #1 succeeded at 2169 (offset 12 lines).\n",
      "\n",
      "applying patch 0020-add-support-for-linux-4.3.patch...patching file src/shared/linux_osl.c\n",
      "\n",
      "applying patch 0021-add-support-for-Linux-4.7.patch...patching file src/wl/sys/wl_cfg80211_hybrid.c\n",
      "\n",
      "applying patch 0022-add-support-for-Linux-4.8.patch...patching file src/wl/sys/wl_cfg80211_hybrid.c\n",
      "Hunk #1 succeeded at 2391 (offset 3 lines).\n",
      "Hunk #2 succeeded at 2501 (offset 3 lines).\n",
      "Hunk #3 succeeded at 2933 (offset 9 lines).\n",
      "\n",
      "applying patch 0023-add-support-for-Linux-4.11.patch...patching file src/include/linuxver.h\n",
      "patching file src/wl/sys/wl_linux.c\n",
      "Hunk #1 succeeded at 2919 (offset 4 lines).\n",
      "\n",
      "applying patch 0024-add-support-for-Linux-4.12.patch...patching file src/wl/sys/wl_cfg80211_hybrid.c\n",
      "Hunk #1 succeeded at 55 (offset 5 lines).\n",
      "Hunk #2 succeeded at 472 (offset 5 lines).\n",
      "Hunk #3 succeeded at 2371 (offset 5 lines).\n",
      "Hunk #4 succeeded at 2388 (offset 5 lines).\n",
      "\n",
      "applying patch 0025-add-support-for-Linux-4.14.patch...patching file src/shared/linux_osl.c\n",
      "Hunk #1 succeeded at 1080 (offset 4 lines).\n",
      "\n",
      "applying patch 0026-add-support-for-Linux-4.15.patch...patching file src/wl/sys/wl_linux.c\n",
      "Hunk #2 succeeded at 2306 (offset 4 lines).\n",
      "Hunk #3 succeeded at 2368 (offset 4 lines).\n",
      "\n",
      "applying patch 0027-add-support-for-linux-5.1.patch...patching file src/include/linuxver.h\n",
      "Hunk #1 succeeded at 595 (offset 4 lines).\n",
      "\n",
      "applying patch 0028-add-support-for-linux-5.6.patch...patching file src/shared/linux_osl.c\n",
      "Hunk #1 succeeded at 946 (offset 4 lines).\n",
      "patching file src/wl/sys/wl_linux.c\n",
      "Hunk #1 succeeded at 590 (offset 8 lines).\n",
      "Hunk #2 succeeded at 784 (offset 8 lines).\n",
      "Hunk #3 succeeded at 3365 (offset 22 lines).\n",
      "\n",
      "applying patch 0029-Update-for-set_fs-removal-in-Linux-5.10.patch...patching file src/wl/sys/wl_cfg80211_hybrid.c\n",
      "patching file src/wl/sys/wl_iw.c\n",
      "patching file src/wl/sys/wl_linux.c\n",
      "patching file src/wl/sys/wl_linux.h\n",
      "\n",
      "applying patch 0040-add-support-for-linux-5.18.patch...patching file src/shared/linux_osl.c\n",
      "patching file src/wl/sys/wl_linux.c\n",
      "\n",
      "applying patch 0041-dev-addr-access.patch...patching file src/wl/sys/wl_linux.c\n",
      "Hunk #1 succeeded at 646 (offset 16 lines).\n",
      "Hunk #2 succeeded at 1855 (offset 50 lines).\n",
      "Hunk #3 succeeded at 3036 (offset 64 lines).\n",
      "Hunk #4 succeeded at 3321 (offset 64 lines).\n",
      "Hunk #5 succeeded at 3382 (offset 64 lines).\n",
      "\n",
      "applying patch 0042-add-support-for-linux-6.x.patch...patching file src/wl/sys/wl_cfg80211_hybrid.c\n",
      "\n",
      "\n",
      "Building module:\n",
      "cleaning build area...\n",
      "make -j8 KERNELRELEASE=6.1.29 -C /lib/modules/6.1.29/build M=/var/lib/dkms/bcmwl/6.30.223.271+bdcom/build.....\n",
      "Signing module:\n",
      " - /var/lib/dkms/bcmwl/6.30.223.271+bdcom/6.1.29/x86_64/module/wl.ko\n",
      "Secure Boot not enabled on this system.\n",
      "cleaning build area...\n",
      "\n",
      "wl.ko:\n",
      "Running module version sanity check.\n",
      " - Original module\n",
      "   - No original module exists within this kernel\n",
      " - Installation\n",
      "   - Installing to /lib/modules/6.1.29/updates/dkms/\n",
      "\n",
      "depmod...\n",
      "\u001b[74G[ OK ]\n",
      "run-parts: executing /etc/kernel/postinst.d/initramfs-tools 6.1.29 /boot/vmlinuz-6.1.29\n",
      "update-initramfs: Generating /boot/initrd.img-6.1.29\n",
      "I: The initramfs will attempt to resume from /dev/sda2\n",
      "I: (UUID=3bef089a-1f68-482e-9ba3-9c51d70e3d07)\n",
      "I: Set the RESUME variable to override this.\n",
      "run-parts: executing /etc/kernel/postinst.d/unattended-upgrades 6.1.29 /boot/vmlinuz-6.1.29\n",
      "run-parts: executing /etc/kernel/postinst.d/update-notifier 6.1.29 /boot/vmlinuz-6.1.29\n",
      "run-parts: executing /etc/kernel/postinst.d/xx-update-initrd-links 6.1.29 /boot/vmlinuz-6.1.29\n",
      "I: /boot/initrd.img.old is now a symlink to initrd.img-6.1.28\n",
      "I: /boot/initrd.img is now a symlink to initrd.img-6.1.29\n",
      "run-parts: executing /etc/kernel/postinst.d/zz-shim 6.1.29 /boot/vmlinuz-6.1.29\n",
      "run-parts: executing /etc/kernel/postinst.d/zz-update-grub 6.1.29 /boot/vmlinuz-6.1.29\n",
      "Sourcing file `/etc/default/grub'\n",
      "Sourcing file `/etc/default/grub.d/init-select.cfg'\n",
      "Generating grub configuration file ...\n",
      "Found linux image: /boot/vmlinuz-6.1.29\n",
      "Found initrd image: /boot/initrd.img-6.1.29\n",
      "Found linux image: /boot/vmlinuz-6.1.28\n",
      "Found initrd image: /boot/initrd.img-6.1.28\n",
      "Found linux image: /boot/vmlinuz-5.19.0-41-generic\n",
      "Found initrd image: /boot/initrd.img-5.19.0-41-generic\n",
      "Memtest86+ needs a 16-bit boot, that is not available on EFI, exiting\n",
      "Warning: os-prober will not be executed to detect other bootable partitions.\n",
      "Systems on them will not be added to the GRUB boot configuration.\n",
      "Check GRUB_DISABLE_OS_PROBER documentation entry.\n",
      "Adding boot menu entry for UEFI Firmware Settings ...\n",
      "done\n"
     ]
    }
   ],
   "source": [
    "sudo make install"
   ]
  },
  {
   "cell_type": "markdown",
   "id": "1a90437c-2190-4c83-a535-e283cf632826",
   "metadata": {},
   "source": [
    "## 6. Delete debug infomation for kernel modules(Optional)\n",
    "For this version, 6.1.19, we are not going to strip the debug information for the modules now. The following is the history records of installing 6.2.0 kernel.\n",
    "\n",
    "The 6.2 version was tagged with EOL, short for End of Life, in the kernel archives website. But 6.1.19 is a long term support version, so I would like to keep it as a backup kernel.\n",
    "After the kernel modules installed, it turned out that the new modules occupied too much disk drive space."
   ]
  },
  {
   "cell_type": "code",
   "execution_count": 1,
   "id": "ccc674f9-7688-4287-8d40-5e294f5290ba",
   "metadata": {
    "tags": []
   },
   "outputs": [
    {
     "name": "stdout",
     "output_type": "stream",
     "text": [
      "603M\t/lib/modules/5.19.0-32-generic\n",
      "604M\t/lib/modules/5.19.0-41-generic\n",
      "6.0G\t/lib/modules/6.2.0\n"
     ]
    }
   ],
   "source": [
    "du -sh /lib/modules/*"
   ]
  },
  {
   "cell_type": "code",
   "execution_count": 3,
   "id": "e95da958-e634-4d85-a95b-0f6c78903300",
   "metadata": {
    "tags": []
   },
   "outputs": [
    {
     "name": "stdout",
     "output_type": "stream",
     "text": [
      "/lib/modules/5.19.0-41-generic/kernel/fs/btrfs/btrfs.ko: ELF 64-bit LSB relocatable, x86-64, version 1 (SYSV), BuildID[sha1]=0e2afdf8bcd0fe6a6e39ae89795f923156aa5565, not stripped\n",
      "/lib/modules/6.2.0/kernel/fs/btrfs/btrfs.ko:             ELF 64-bit LSB relocatable, x86-64, version 1 (SYSV), BuildID[sha1]=d8002917f3a35a364ae485d767c07d99652271b8, with debug_info, not stripped\n",
      "-rw-r--r-- 1 root root 3.1M Apr 18 23:38 /lib/modules/5.19.0-41-generic/kernel/fs/btrfs/btrfs.ko\n",
      "-rw-r--r-- 1 root root  35M May 11 00:18 /lib/modules/6.2.0/kernel/fs/btrfs/btrfs.ko\n"
     ]
    }
   ],
   "source": [
    "file /lib/modules/{5.19.0-41-generic,6.2.0}/kernel/fs/btrfs/btrfs.ko\n",
    "ls -lh /lib/modules/{5.19.0-41-generic,6.2.0}/kernel/fs/btrfs/btrfs.ko"
   ]
  },
  {
   "cell_type": "markdown",
   "id": "477ab475-7129-4ca1-b68b-b34e9427a806",
   "metadata": {},
   "source": [
    "From first command output above, we can see that the newly installed kernel '6.2.0' is more than 10 times larger the the preinstalled version. The next command outputs showed that, the module files in the new version is 'with debug_info', and that's the reason.\n",
    "\n",
    "Keep in mind that beyond the use of disk space, this is not as significant as it may appear. Debugging symbols are not loaded during normal runtime, so the actual size of each module in memory is probably identical regardless of the size of the .ko file.\n",
    "\n",
    "Anyway, if we want to minimize the use of disk space, the `strip` command:"
   ]
  },
  {
   "cell_type": "code",
   "execution_count": 4,
   "id": "63ceadf9-adae-4254-b9fe-06616ea5e66f",
   "metadata": {},
   "outputs": [],
   "source": [
    "strip --strip-all \"./fs/btrfs/btrfs.ko\" -o \"./fs/btrfs/btrfs.ko.stripped\""
   ]
  },
  {
   "cell_type": "code",
   "execution_count": 5,
   "id": "2c05e6cf-eb76-4808-b779-06aa6b398b01",
   "metadata": {
    "tags": []
   },
   "outputs": [
    {
     "name": "stdout",
     "output_type": "stream",
     "text": [
      "-rw-rw-r-- 1 clymber clymber  35M May 10 23:52 ./fs/btrfs/btrfs.ko\n",
      "-rw-rw-r-- 1 clymber clymber 1.5M May 11 14:50 ./fs/btrfs/btrfs.ko.stripped\n",
      "./fs/btrfs/btrfs.ko:          ELF 64-bit LSB relocatable, x86-64, version 1 (SYSV), BuildID[sha1]=d8002917f3a35a364ae485d767c07d99652271b8, with debug_info, not stripped\n",
      "./fs/btrfs/btrfs.ko.stripped: ELF 64-bit LSB relocatable, x86-64, version 1 (SYSV), BuildID[sha1]=d8002917f3a35a364ae485d767c07d99652271b8, stripped\n"
     ]
    }
   ],
   "source": [
    "ls -lh ./fs/btrfs/btrfs.ko{,.stripped}\n",
    "file ./fs/btrfs/btrfs.ko{,.stripped}"
   ]
  },
  {
   "cell_type": "markdown",
   "id": "25ce4339-2020-4716-88c9-a35ecada7d25",
   "metadata": {},
   "source": [
    "As showed above, the file size with its debug information stripped is much smaller the the original one.\n",
    "\n",
    "Alternatively, we can avoid the toiling stripping work during kernel modules installation, like: "
   ]
  },
  {
   "cell_type": "code",
   "execution_count": null,
   "id": "c087f80e-dd74-4f7b-a08b-3adc05362e8c",
   "metadata": {
    "tags": []
   },
   "outputs": [],
   "source": [
    "# DO NOT execute the follow command in jupyter notebook if not necessary,\n",
    "# it will consume large amount of memory and slow down the system.\n",
    "# Do it with the system shell terminal to have better performance.\n",
    "sudo make INSTALL_MOD_STRIP=1 modules_install"
   ]
  },
  {
   "cell_type": "code",
   "execution_count": 8,
   "id": "8e92baf7-0629-4d07-8284-f869f1f8d989",
   "metadata": {
    "tags": []
   },
   "outputs": [
    {
     "name": "stdout",
     "output_type": "stream",
     "text": [
      "603M\t/lib/modules/5.19.0-32-generic\n",
      "604M\t/lib/modules/5.19.0-41-generic\n",
      "467M\t/lib/modules/6.2.0\n"
     ]
    }
   ],
   "source": [
    "du -sh /lib/modules/*"
   ]
  },
  {
   "cell_type": "markdown",
   "id": "40b52cb2-c789-4bd6-ab43-9e956dd404b8",
   "metadata": {},
   "source": [
    "After stripped, the disk space consumed by the new kernel is significantly smaller, from 6 GB to 467 M!"
   ]
  },
  {
   "cell_type": "markdown",
   "id": "546056be-118d-49ce-8b2a-12600f5a936b",
   "metadata": {},
   "source": [
    "## 7. Update the Bootloader (Optional)\n",
    "\n",
    "The GRUB bootloader is the first program that runs when the system powers on.  \n",
    "The make install command performs this process automatically, but you can also do it manually.\n",
    "\n",
    "### 1. Update the initramfs to the installed kernel version:"
   ]
  },
  {
   "cell_type": "code",
   "execution_count": 6,
   "id": "3176f6b6-d507-47b1-9052-d9dc6565e91d",
   "metadata": {
    "scrolled": true,
    "tags": []
   },
   "outputs": [
    {
     "name": "stdout",
     "output_type": "stream",
     "text": [
      "update-initramfs: Generating /boot/initrd.img-6.2.0\n",
      "I: The initramfs will attempt to resume from /dev/sda2\n",
      "I: (UUID=3bef089a-1f68-482e-9ba3-9c51d70e3d07)\n",
      "I: Set the RESUME variable to override this.\n"
     ]
    }
   ],
   "source": [
    "sudo update-initramfs -c -k 6.2.0"
   ]
  },
  {
   "cell_type": "markdown",
   "id": "884925c1-ffba-4014-830a-2f73f7b381bf",
   "metadata": {},
   "source": [
    "### 2. Update the GRUB bootloader with this command:"
   ]
  },
  {
   "cell_type": "code",
   "execution_count": 7,
   "id": "dc51e7b5-2e8a-4207-9c79-60e60f797f3f",
   "metadata": {
    "tags": []
   },
   "outputs": [
    {
     "name": "stdout",
     "output_type": "stream",
     "text": [
      "Sourcing file `/etc/default/grub'\n",
      "Sourcing file `/etc/default/grub.d/init-select.cfg'\n",
      "Generating grub configuration file ...\n",
      "Found linux image: /boot/vmlinuz-6.2.0\n",
      "Found initrd image: /boot/initrd.img-6.2.0\n",
      "Found linux image: /boot/vmlinuz-5.19.0-41-generic\n",
      "Found initrd image: /boot/initrd.img-5.19.0-41-generic\n",
      "Found linux image: /boot/vmlinuz-5.19.0-32-generic\n",
      "Found initrd image: /boot/initrd.img-5.19.0-32-generic\n",
      "Memtest86+ needs a 16-bit boot, that is not available on EFI, exiting\n",
      "Warning: os-prober will not be executed to detect other bootable partitions.\n",
      "Systems on them will not be added to the GRUB boot configuration.\n",
      "Check GRUB_DISABLE_OS_PROBER documentation entry.\n",
      "Adding boot menu entry for UEFI Firmware Settings ...\n",
      "done\n"
     ]
    }
   ],
   "source": [
    "sudo update-grub"
   ]
  },
  {
   "cell_type": "markdown",
   "id": "75bf5417-ffb7-4bcc-9f3f-e2f1b33b87b6",
   "metadata": {},
   "source": [
    "## Reboot and Verify Kernel Version\n",
    "\n",
    "When you complete the steps above, reboot the machine.  \n",
    "When the system boots up, verify the kernel version using the uname command:"
   ]
  },
  {
   "cell_type": "code",
   "execution_count": 1,
   "id": "e38091af-437d-4255-8450-564d59447c4c",
   "metadata": {
    "tags": []
   },
   "outputs": [
    {
     "name": "stdout",
     "output_type": "stream",
     "text": [
      "Linux 6.2.0 x86_64\n"
     ]
    }
   ],
   "source": [
    "uname -mrs"
   ]
  }
 ],
 "metadata": {
  "kernelspec": {
   "display_name": "Bash",
   "language": "bash",
   "name": "bash"
  },
  "language_info": {
   "codemirror_mode": "shell",
   "file_extension": ".sh",
   "mimetype": "text/x-sh",
   "name": "bash"
  }
 },
 "nbformat": 4,
 "nbformat_minor": 5
}
